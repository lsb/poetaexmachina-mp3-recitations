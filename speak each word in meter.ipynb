{
 "cells": [
  {
   "cell_type": "code",
   "execution_count": 1,
   "id": "6ab09d8b",
   "metadata": {},
   "outputs": [],
   "source": [
    "import pandas as pd\n",
    "import requests\n",
    "from tqdm.notebook import tqdm\n",
    "import IPython"
   ]
  },
  {
   "cell_type": "code",
   "execution_count": 2,
   "id": "56558a29",
   "metadata": {},
   "outputs": [
    {
     "data": {
      "text/html": [
       "<div>\n",
       "<style scoped>\n",
       "    .dataframe tbody tr th:only-of-type {\n",
       "        vertical-align: middle;\n",
       "    }\n",
       "\n",
       "    .dataframe tbody tr th {\n",
       "        vertical-align: top;\n",
       "    }\n",
       "\n",
       "    .dataframe thead th {\n",
       "        text-align: right;\n",
       "    }\n",
       "</style>\n",
       "<table border=\"1\" class=\"dataframe\">\n",
       "  <thead>\n",
       "    <tr style=\"text-align: right;\">\n",
       "      <th></th>\n",
       "      <th>text</th>\n",
       "      <th>meter</th>\n",
       "    </tr>\n",
       "  </thead>\n",
       "  <tbody>\n",
       "    <tr>\n",
       "      <th>0</th>\n",
       "      <td>A</td>\n",
       "      <td>s</td>\n",
       "    </tr>\n",
       "    <tr>\n",
       "      <th>1</th>\n",
       "      <td>AB</td>\n",
       "      <td>s</td>\n",
       "    </tr>\n",
       "    <tr>\n",
       "      <th>2</th>\n",
       "      <td>ABBAS</td>\n",
       "      <td>sl</td>\n",
       "    </tr>\n",
       "    <tr>\n",
       "      <th>3</th>\n",
       "      <td>ABSENTEM</td>\n",
       "      <td>sss</td>\n",
       "    </tr>\n",
       "    <tr>\n",
       "      <th>4</th>\n",
       "      <td>AC</td>\n",
       "      <td>s</td>\n",
       "    </tr>\n",
       "    <tr>\n",
       "      <th>...</th>\n",
       "      <td>...</td>\n",
       "      <td>...</td>\n",
       "    </tr>\n",
       "    <tr>\n",
       "      <th>176845</th>\n",
       "      <td>zothecula</td>\n",
       "      <td>llss</td>\n",
       "    </tr>\n",
       "    <tr>\n",
       "      <th>176846</th>\n",
       "      <td>zotheculas</td>\n",
       "      <td>llsl</td>\n",
       "    </tr>\n",
       "    <tr>\n",
       "      <th>176847</th>\n",
       "      <td>zygian</td>\n",
       "      <td>sss</td>\n",
       "    </tr>\n",
       "    <tr>\n",
       "      <th>176848</th>\n",
       "      <td>zythi</td>\n",
       "      <td>sl</td>\n",
       "    </tr>\n",
       "    <tr>\n",
       "      <th>176849</th>\n",
       "      <td>zytho</td>\n",
       "      <td>sl</td>\n",
       "    </tr>\n",
       "  </tbody>\n",
       "</table>\n",
       "<p>176850 rows × 2 columns</p>\n",
       "</div>"
      ],
      "text/plain": [
       "              text meter\n",
       "0                A     s\n",
       "1               AB     s\n",
       "2            ABBAS    sl\n",
       "3         ABSENTEM   sss\n",
       "4               AC     s\n",
       "...            ...   ...\n",
       "176845   zothecula  llss\n",
       "176846  zotheculas  llsl\n",
       "176847      zygian   sss\n",
       "176848       zythi    sl\n",
       "176849       zytho    sl\n",
       "\n",
       "[176850 rows x 2 columns]"
      ]
     },
     "execution_count": 2,
     "metadata": {},
     "output_type": "execute_result"
    }
   ],
   "source": [
    "wwm = pd.read_csv(\"words-with-meters.csv\", names=[\"text\", \"meter\"])\n",
    "wwm"
   ]
  },
  {
   "cell_type": "code",
   "execution_count": 3,
   "id": "1936f64c",
   "metadata": {
    "scrolled": true
   },
   "outputs": [
    {
     "data": {
      "text/plain": [
       "[{'text': 'A', 'meter': 's'},\n",
       " {'text': 'AB', 'meter': 's'},\n",
       " {'text': 'ABBAS', 'meter': 'sl'},\n",
       " {'text': 'ABSENTEM', 'meter': 'sss'},\n",
       " {'text': 'AC', 'meter': 's'},\n",
       " {'text': 'ACADEMIA', 'meter': 'sssss'},\n",
       " {'text': 'ACILIO', 'meter': 'slsl'},\n",
       " {'text': 'ACTA', 'meter': 'ss'},\n",
       " {'text': 'ACTIO', 'meter': 'ssl'},\n",
       " {'text': 'AD', 'meter': 's'}]"
      ]
     },
     "execution_count": 3,
     "metadata": {},
     "output_type": "execute_result"
    }
   ],
   "source": [
    "[dict(wwm.iloc[i]) for i in range(10)]"
   ]
  },
  {
   "cell_type": "code",
   "execution_count": 4,
   "id": "4fa716ea",
   "metadata": {},
   "outputs": [
    {
     "data": {
      "text/plain": [
       "'A'"
      ]
     },
     "execution_count": 4,
     "metadata": {},
     "output_type": "execute_result"
    }
   ],
   "source": [
    "wwm['text'][0]"
   ]
  },
  {
   "cell_type": "code",
   "execution_count": 5,
   "id": "97c3d3a1",
   "metadata": {},
   "outputs": [],
   "source": [
    "wwm['text'] += \",\""
   ]
  },
  {
   "cell_type": "code",
   "execution_count": 6,
   "id": "909e8c1b",
   "metadata": {},
   "outputs": [
    {
     "data": {
      "text/html": [
       "<div>\n",
       "<style scoped>\n",
       "    .dataframe tbody tr th:only-of-type {\n",
       "        vertical-align: middle;\n",
       "    }\n",
       "\n",
       "    .dataframe tbody tr th {\n",
       "        vertical-align: top;\n",
       "    }\n",
       "\n",
       "    .dataframe thead th {\n",
       "        text-align: right;\n",
       "    }\n",
       "</style>\n",
       "<table border=\"1\" class=\"dataframe\">\n",
       "  <thead>\n",
       "    <tr style=\"text-align: right;\">\n",
       "      <th></th>\n",
       "      <th>text</th>\n",
       "      <th>meter</th>\n",
       "    </tr>\n",
       "  </thead>\n",
       "  <tbody>\n",
       "    <tr>\n",
       "      <th>0</th>\n",
       "      <td>A,</td>\n",
       "      <td>s</td>\n",
       "    </tr>\n",
       "    <tr>\n",
       "      <th>1</th>\n",
       "      <td>AB,</td>\n",
       "      <td>s</td>\n",
       "    </tr>\n",
       "    <tr>\n",
       "      <th>2</th>\n",
       "      <td>ABBAS,</td>\n",
       "      <td>sl</td>\n",
       "    </tr>\n",
       "    <tr>\n",
       "      <th>3</th>\n",
       "      <td>ABSENTEM,</td>\n",
       "      <td>sss</td>\n",
       "    </tr>\n",
       "    <tr>\n",
       "      <th>4</th>\n",
       "      <td>AC,</td>\n",
       "      <td>s</td>\n",
       "    </tr>\n",
       "    <tr>\n",
       "      <th>...</th>\n",
       "      <td>...</td>\n",
       "      <td>...</td>\n",
       "    </tr>\n",
       "    <tr>\n",
       "      <th>176845</th>\n",
       "      <td>zothecula,</td>\n",
       "      <td>llss</td>\n",
       "    </tr>\n",
       "    <tr>\n",
       "      <th>176846</th>\n",
       "      <td>zotheculas,</td>\n",
       "      <td>llsl</td>\n",
       "    </tr>\n",
       "    <tr>\n",
       "      <th>176847</th>\n",
       "      <td>zygian,</td>\n",
       "      <td>sss</td>\n",
       "    </tr>\n",
       "    <tr>\n",
       "      <th>176848</th>\n",
       "      <td>zythi,</td>\n",
       "      <td>sl</td>\n",
       "    </tr>\n",
       "    <tr>\n",
       "      <th>176849</th>\n",
       "      <td>zytho,</td>\n",
       "      <td>sl</td>\n",
       "    </tr>\n",
       "  </tbody>\n",
       "</table>\n",
       "<p>176850 rows × 2 columns</p>\n",
       "</div>"
      ],
      "text/plain": [
       "               text meter\n",
       "0                A,     s\n",
       "1               AB,     s\n",
       "2            ABBAS,    sl\n",
       "3         ABSENTEM,   sss\n",
       "4               AC,     s\n",
       "...             ...   ...\n",
       "176845   zothecula,  llss\n",
       "176846  zotheculas,  llsl\n",
       "176847      zygian,   sss\n",
       "176848       zythi,    sl\n",
       "176849       zytho,    sl\n",
       "\n",
       "[176850 rows x 2 columns]"
      ]
     },
     "execution_count": 6,
     "metadata": {},
     "output_type": "execute_result"
    }
   ],
   "source": [
    "wwm"
   ]
  },
  {
   "cell_type": "code",
   "execution_count": 7,
   "id": "2b1b35c4",
   "metadata": {},
   "outputs": [
    {
     "data": {
      "application/vnd.jupyter.widget-view+json": {
       "model_id": "035f364c94b54a36b811caa1e412d162",
       "version_major": 2,
       "version_minor": 0
      },
      "text/plain": [
       "  0%|          | 0/176850 [00:00<?, ?it/s]"
      ]
     },
     "metadata": {},
     "output_type": "display_data"
    }
   ],
   "source": [
    "recited_words = [{\"text\": wwm['text'][i][0:-1], \"mp3\": requests.get(\"https://poetaexmachina.net/mp3\",params=dict(wwm.iloc[i])).content} for i in tqdm(range(len(wwm)))]"
   ]
  },
  {
   "cell_type": "code",
   "execution_count": null,
   "id": "c2dfaf0e",
   "metadata": {},
   "outputs": [],
   "source": []
  },
  {
   "cell_type": "code",
   "execution_count": 8,
   "id": "424c72da",
   "metadata": {},
   "outputs": [
    {
     "data": {
      "text/html": [
       "\n",
       "                <audio  controls=\"controls\" >\n",
       "                    <source src=\"data:audio/wav;base64,//NQxAAZIb3cAU9AANwFYrJlOaaFqQetHm4QhUiPgG4Mc2AAGAjoIlBCFg/ydoWIhAoKA0AUAUBYoNA8kXFz4IMFz30RK+Sz7IDgPKFDJLFz30Fz7hEr///6/0SpRN+ESSDELg+OB9RyDjv2FHcMf/l11hMPvcZT+dSDWnsgp+w+4//zUsQQHgMakAGYoAAAAAKAucZsriE45wrYDTkQFDYLDzcwNBrB+gn0AQAGKAwKgg1Ag5fMwt7ImJ3EeaCDJl9FyVIoXzQ0Jc0/NC0bsyai2i6DOr/nlNupa1Myaf//1XXNGf7IqWiasr/////+//dq1mn/lNbwhpU7Loeuug4Ean6Q//NSxA4cmY6gAdnAAKpDezimSWxylpDJ2u4Z55vkpQAkBnb8EEVKEV0TU9wySEl7EWWSO8nK3SGIjS2pZhXxywmZVn2cq36WGJNG52lydynsXMN65Wvb196/vWNJn2zNY17uNHe5c3Y7ULbf//////0q//uAxWXdoECIOO4mZeyC9eD/81DEERuxfpQAxpKUA6B16WN6CCh+sgs+XO14zb8RGEglsEIkx1YHIlb1LhgWaYG/MWHQIsSfmliy26S3WXGCZHMVx5yxgekJyMEQA9o3nfdoa9Nbq80NTKGsREIVMpuaDRINVxf1rZa0Wv/5IDa1O1Bii6Z7xlJhwy/c+ZKUAZOX//NSxBcfoXqMAMbelOrDGMRBmhqBgBc4WCDYhowINjQyDgUvO0I1TMLMPITRXgMDJAtEwdHQpgautNKqKYUokaphaO9XVpEKNxfMhQjGmjqwUD72q5fcB1/5cfcBx+4DhakN/pZSJ3/HTEQf////H7zzBOGK//zFUL3cB1Jj9u4vE7j/81LEDh1JipAAztKUWGoy+I4zhBOuRaphqQcKYjwetsUCDG0YHESwbrGIF5xAOPA5dwYHTNj1nsRl4EDQQEK8yglTW9zqFZhoqxvgs0QNyGlkIqNMTwifty2M4Itn9tTEmjp6RK6TEWQAov/7P///+ivfEVX/1KR03dzqFgMZQNFa7v/zUMQOHPmGjADW3pTQjtA4o2q7zBhMHkyaMDLGMMNwhmYcywqABnCuZeAlw11GJqxrIa8L8SZcwkFw/BLyKU8sVqsxz6g614KIVE1WIkishMKoZKeFH38xN/4j3+ZP9xor+75Dnu/4KlNuo79n////9NSklD+YpgEQdhwI4aS6OEj/81LEDxlReogAzpiUlHTTuGS2gWwsSOtpMoISPvQWYgKtJW1l5iVhxTymLYyAEZckvOljzxKme6K5RqnvdxlMV/rGT/Tcknj6YCRmeRWZU/LS6Zx75na5krrX6y79xp7/1toqPBREhFpVQkI3GZFjiV5dizEqBmUasDVF9ISD6FWQk//zUMQfGhFeaAB7zJT0sJfidL5khjE2L6cqKUcW8d7SfdcwPI8a0U0ig6yAmCsDmnpSpebLPUNkd6pKnN4MF6lhwY/ziUVFiSaTNlD0PT1zpWnprdnKKhAJFNFWi7I52m3KJJ09uLekd7SmKyatEShUTkNaoV7LvPf/3r+z7tbY0cv/81LEKxkhhmABT2ABMC57z1bEyYu/emTX/p1erfazuWt8eXz+mXJxX77xb8+KNWdrH6FH/H1r9U/d7tKtyS5yW0BcNnovug8p9xP0/VAq2BQPyJK1qfQYYENpcIHrGjBzzy6bIDa+2OhTnXdy1bfo/UakgPbONbOs2ltVnR7Y13ziFv/zUsQ8J+MSZAGPeACpaZrltrecGRqG5l8VCzt5n/ePfGYnm18YIOcYjbI6DkTplu6Y3rFrZr4uvbeaT/Nt/40WwvCcdTn+t6tNRkkrrH19/63XX+6WvvFcYkzq/r7zK+Rwg3fwn9VY4UfhD///g+BKqZtWNIwFIV7jJq2UPYtdDOJx//NQxBIeKxqkAYlAAMKTI7rOZZFBEHDyhc37heW/Z65qrgfJkVTeDVa7lpBoQJx46TYYwFghB4sji7q5NeiA6dpvSo76nswwdApjEndeHVVkPJbcf3HolpV/xFsZdksw6al0ig7IEK3MDgS6Ub0ST/6f/N0L/yL5f6Sd9zk/6I5rTv/zUsQOGErqmAHBOAFf////20O/mnLQuRKlj2e7WZbKaruahhFlHVHjWutjiIijwwWGxRonUuIhc0XxqFzCIoJmFxHQFoUGgLxaEQkHDcuLzzx4iNzTymDQchFG1oXu/SpfsiTkGmdZj5eYpAyAAxmW+yy//KX/////3/xXzEcTPzD5//NQxCIZiyKYAAhWvL3zvfu+YianvVT2y90ondBiBkiQhSQKSxDFp8mJm7zzUDSCkdBoQYKAGFhYCQaEh9JlxifTJZQqvA7CYaHEDfIAceO0VRqfp1TcpRgk9r+jwmJlGSI/n/O2ODnKl/L3/dr1n/h9ufWd4e4VcJy9R+bfz3f29//zUsQwGbM+oAAQUr0qrvy99JHaPnxQmxHHS6UpIaPMrQOippFFt40ibCjzQZIUwwuoGVTS7IqPIke+KZSWNQ2OvPvt+xT0D6gUa44phL2UNVanAl+WOHA+RbhhRhu0p1dLz5IRIiXZYEg+oJpLQiIZeduSy2sYn236Nx0O3qx0HAKA//NSxD8biwqoAMMKuJi0Tf69Pya71c5yKQwoLuZnI1ensn1/1piRqe/qUpn1YxlMa9HpVlKhn2oHnyT0qv1vCVgwsiLrVsYAMORSFXLsRDkQ/zm5JF//e5m3lrtSFzmWNWgZnQ2aK3YeuJwXHJonm73qVlQt3JLhOJzD7B1DlQ++++j/81DERhkZvqgAzh6Umv/6a//1j/eqV/t76y2wH7HPiI5aSVuZt////tqx1f/+XxAoUb2dVJSFeyhG1+UgAjmNn+Q5tf+VcTf7Upib/2pWp1bEh3CjtrEMgsafXilEhjewTqY8iULNoK8P6tq+FGVkS/8PGv4W4mP7sKjxjxF0qM5p//NSxFYaUa6gAMvelCYcLiY5bLP//+U8kvD+JyrBOyUV///AdiHs6Tl+Ohbd1K+bmYIJM1ay6SHWRpBPTJPc6XSCNuTM+vaU/U/v6YiDFhUd2ptHyThvzGUKofPN/Miopi8r21PlrbWtz+G5FLtnvirCrIlMeDd84XFtOM//0UN0eXH/81LEYhphuqAAzJ6UYwBy6JcRXKX1BJgPMfWbEXAf8KFPKUmCXDitnGrVUMltAkDbzhi3N3HXzlgtPiSApx1K+8sZWYvSd3V7XOdMjlrdKWg1zqjyAzSed3NGpDq4xs3z9PTHz0U///+nK2Cz1kpN//3MDlkasoewrGJ83O4IieAGm//zUMRuFrG2qACbXpSyRMF2pdImTz1GCbrYvm+lZy7N4bPJ3zpdGgk1KqjpJOu0MP7R7IEv7Innw7zbYHzfZP2swuEk0d9twa1uI9YZ2tygWYsvostp8xdrQS0/////qDr//KZEnoOnrNLLwec5+fCiBWEUQKSy+MXqJtvSvmZo+mX/81LEiBm5uqgAxB6UPVDV8S+oQwwlYuLhRSALgEieN6koDAH8rmdDS7kFVi/MxqtGvvKp27dtxHByfZ1I1tTNvxGtlr48eLUDtI+S3rGeSoA5lWGU0y2jEBgMSay05+Mzgdbj7Wtwc/VnW45AvebldHzfc67u42JXDb0Pd+FQhKKTKv/zUMSXGAGyoADMXpRIhIjpazaQcInwhwOZC28ug6lIXqK2mgLFJvcWzCqc4evWX+FGfRs63i3tnWI7aI2Qa/f7tRo45QOGfcJ5oCTXDXbhTUvZGbYqtwvTCyr2fLkci3NULA4KyqxeVtrv7L6L8nt6pJqUsc0EgxJqZFAfkQ8bkGD/81LErBp5lowA1h6VfD8TSQaAgFMlhADoNn3vo9/beo6/4+NyTutJ0qbLC+w5R//+h3/bKObp4KAGIB2oW0nIhUhHKU1YbKgQyVm7OrvSRsdrz/5Z0CjcszrjsAQAjVm8W8lRuut3rvN8zvYr9XsMByeKxctTNEV682ssdPopjZSYPv/zUsS4GnmqeADWFpTzf8ZSE0j5CpzzVzP//67Pqzcq0XqzYvtGAvIHNmpRFLwGPho9PSVKkw5BcW6FrZfmtnN0sa3b23J/9zFKIRJnO/TL7UjblXyl+c/3MBpGKiwNO5QbjRHHio6JzyI2LFqGTnp/v1MfKpu1P/////Wx4C5Jig8L//NQxMQYoSJ4ANYecFxqhlxEVhhE7TRCko+jSbJx4Gt2f9gCHVBKgY4nYGFZdoYbPeKp0ysUNaZIjYomVPPYuVCwum6nnjsM6WJIkAhWQcLFIRWEZllYmDTVLNTvxjvqNXfjU4xh/rP3j0T1F9Qo6nj/vzZGXfWfq++e9Xyhip2Pd//zUsTWGLGGeADWDpSJ/F4JWyZ9U1v/lS9L+s+LpCBJwagaz5XTRlrVn2ebKkdaJgWH5K7tkK3tntdaVQu8t6u/DXLfVatytWlzrZVWrVsTK2z1rWnl2gotnytwmktKDYVLkdjYJ0NF6XF55p8PWZsZ7KxevnspobPrAoLTfrR1WAXu//NQxOkfWYpYAMvSlVwOWfn7ev6qIhVvaz+NHiTavEpJeFAan2t3bcQr2YcZj0EyqcUZoyaBUcMpGzcpDB5lyoQdMgYqIjXXXcHkG2PkYFU6pwgvWnwojm1VXWoZMO7mTnmpmUqYkMhlHIcaI6iIxt+bzzbE1rkwZAnQ3TXDUzBBgv/zUsTgHIp2TADDBrmSmtt/8YJIjiWM+rU/BHhoBuQ8ZeQsphzR3mYBWwLhgGCDWEGFAiANhgLIBSzsm5UEByLGAGGAClAGBgCkzZ2HWOMLDxzidAstA4I0DmFALCwsrb8dpkaDKEEJwmAsIDChEAEDgMcED1Qbv+/LJEyKGhcJcgBE//NSxOMZ2vpAAU8YAAnCCjODtFcEKAFAAxWAEHFh//nkybJ83JwwYnKCSA7SYLxIF8jCZJAipoXyHF///9N0jSk0wPJmhugakFJgrjcIgMwOeTRTHeKyRYZUon///+T6d///ol4+bJrdLEUcVJV1LTs6M0KMjjAS2u1ZRlTB1ULZABn/81DE8TVr1nABm6AA9CmWsAU1sU1VxsMngn5bhGYCjUlkj9S9+6J2mhtSXdLnIX7EmFEAklVaWMobpqpFNDTOYXDjX1qxhvnqlDwx5rD/P67bDn/f2G6J/pucl0rqTkujeVLVortZ8JDXsRiWOTk89yAbEH1qSVc7dw337x4er//6//NSxJAmydqYAdnAAJlwo4VQPKipYPNNVf/ELhsqYKIgNleVvR2IX6a+XMItTlQaIyQNLaFb1NnWns6ktq14fvXIhJcqkdlV/KE2uSSJw6ymuhqtKIvquRQPYJESoB7GwFcK04zRHybilOknJlpXAmagYk8fr5VKu7arc1rb3gXjObH/81DEaiHxqpwA1h6UODUwQ3ri1PXFe0FBYPDBUcPIi0OLf//kFEKNNk6t/4ABQssbCGVIsYMqPYV5ASqcNQklAYVSXRjat7Wp6UQnVSHKX5XctXqatMWrUvl8tuyuajWV6GoVKoi6M3YflkjUGbDyRQu4kJRxjlKw0ULMpTIWi4S6//NSxFciMgacAM4emKmrWqIjOUGNApt5R1ftr5wNyW2lAoJmiEyqByja1fM9PXFM43uNE1n5f8q9H/6gtdxZ1tsjF7VgJrIUBZq+s1VA4Nd12AHQk0MWemVwoayQayxtt7luG+zitIDhhscXLL5hYZ3StOtUJkuBQoloSXRGPTEDJTL/81LERBuh7qQAw9iZy6hlAvK/SmrM12vTb+tdzEO7x8ydIyzdstMGV6Lm+yKOc/7bPfOR9KRtxd1hQYmOvDBwsAmmKYmaUpIQnGWUUBNjQCbHaS59MnWGm2NxUzZpXN0RzZl04YeqFleq1hQ2M1GkB546BsTtMXBKSiK2Uyy0wStJrP/zUMRLGlGGjADL2JWtouemuWmd6ZtOWm1ratdqye0SzDQpa0X/CuuBem8VxiAN+SCW0K/kRgqqYAT5CEEekLaBQdI84xJDIVw/ADQUBQhI44NwvJdB0KMH3CRgzCrSZWwTsmc3OApJXkGq5mYOlljaEUAZSB8BHllCE0Q0m3UNz/z/81LEVhh5YngAy9KULnq6dMdduQSrV9fQ1YAKq3GYH6MzowkWIoCwUSsUw4DTASTModIUgQByK/GtxVRZSUBNOeZh0Sbu3r8tyA8PwGYDss4ITzXvWXPmK2A+jOceiZotgOo2l13Wen+lp69atWu1aE7gIOoFBWwkq/u2EV0PSsowRf/zUsRqGQFScADOWHAx6Bc4AJGyMuAHAwwl6HSuRbVk/VIsvmMlKEsKEtpy3fT2jRkwCBAxMotHyddo3LMzJYajZHkcBYHiSUB5E6JzYIPHJdIAC8gxAnTTXCGQXA5EIKdLt1BAsta7tTlBBw1qaE0i5RZpaZgOaDoityL/OrKaCes///NQxHwaAPpYAMvMcI/soWtRU3lWulUVBSAqDW5+eVVm1FaZmhmlVr//5KKqqqkqmqkzNSql9wwEvqq/wMKY9VKl1VUov/GNWOquzN+zNl+qkzM1/9Sir/7AQCJFeFP+K7I2WHLTVVfQNBqEMyo4gDC2iPMdiF40B3lTboTyOgkEA//zUsSJGkLaOADCBrm2WKY56r3zcz0kNGLZ0xNdsjLr1xNbzLA4b6vzqGfKOcoN04C1ojTocTMo93IwnHgTGEdgMtFykzem4DM9Z1MN9YFMQU1FMy4xMDCqqqqqqqqqqqqqqqqqqqqqqqqqqqqqqkxBTUUzLjEwMKqqqqqqqqqqqqqq//NQxJYYgHAAAPe8SKqqqqqqqqqqqqqqqqqqqqqqqqqqqqqqqqqqqqqqqqqqqqqqqqqqqqqqqqqqqqqqqqqqqqqqqqqqqqqqqqqqqqqqqqqqqqqqqqqqqqqqqqqqqqqqqqqqqqqqqqqqqqqqqqqqTEFNRTMuMTAwqqqqqqqqqqqqqv/zUsSJAAADSAAAAACqqqqqqqqqqqqqqqqqqqqqqqqqqqqqqqqqqqqqqqqqqqqqqqqqqqqqqqqqqqqqqqqqqqqqqqqqqqqqqqqqqqqqqqqqqqqqqqqqqqqqqqqqqqqqqqqqqqqqqqqqqqqqqqqqqkxBTUUzLjEwMKqqqqqqqqqqqqqq//NSxIkAAANIAAAAAKqqqqqqqqqqqqqqqqqqqqqqqqqqqqqqqqqqqqqqqqqqqqqqqqqqqqqqqqqqqqqqqqqqqqqqqqqqqqqqqqqqqqqqqqqqqqqqqqqqqqqqqqqqqqqqqqqqqqqqqqqqqqqqqqqqTEFNRTMuMTAwqqqqqqqqqqqqqqr/81DEigAAA0gAAAAAqqqqqqqqqqqqqqqqqqqqqqqqqqqqqqqqqqqqqqqqqqqqqqqqqqqqqqqqqqqqqqqqqqqqqqqqqqqqqqqqqqqqqqqqqqqqqqqqqqqqqqqqqqqqqqqqqqqqqqqqqqqqqqqqqkxBTUUzLjEwMKqqqqqqqqqqqqqq//NSxIkAAANIAAAAAKqqqqqqqqqqqqqqqqqqqqqqqqqqqqqqqqqqqqqqqqqqqqqqqqqqqqqqqqqqqqqqqqqqqqqqqqqqqqqqqqqqqqqqqqqqqqqqqqqqqqqqqqqqqqqqqqqqqqqqqqqqqqqqqqqqTEFNRTMuMTAwqqqqqqqqqqqqqqr/81DEigAAA0gAAAAAqqqqqqqqqqqqqqqqqqqqqqqqqqqqqqqqqqqqqqqqqqqqqqqqqqqqqqqqqqqqqqqqqqqqqqqqqqqqqqqqqqqqqqqqqqqqqqqqqqqqqqqqqqqqqqqqqqqqqqqqqqqqqqqqqqpMQU1FMy4xMDCqqqqqqqqqqqqq//NSxIkAAANIAAAAAKqqqqqqqqqqqqqqqqqqqqqqqqqqqqqqqqqqqqqqqqqqqqqqqqqqqqqqqqqqqqqqqqqqqqqqqqqqqqqqqqqqqqqqqqqqqqqqqqqqqqqqqqqqqqqqqqqqqqqqqqqqqqqqqqqqTEFNRTMuMTAwqqqqqqqqqqqqqqr/81LEiQAAA0gAAAAAqqqqqqqqqqqqqqqqqqqqqqqqqqqqqqqqqqqqqqqqqqqqqqqqqqqqqqqqqqqqqqqqqqqqqqqqqqqqqqqqqqqqqqqqqqqqqqqqqqqqqqqqqqqqqqqqqqqqqqqqqqqqqqqqqqqqqqqqqqqqqqqqqqqqqqqqqqqqqv/zUMSKAAADSAAAAACqqqqqqqqqqqqqqqqqqqqqqqqqqqqqqqqqqqqqqqqqqqqqqqqqqqqqqqqqqqqqqqqqqqqqqqqqqqqqqqqqqqqqqqqqqqqqqqqqqqqqqqqqqqqqqqqqqqqqqqqqqqqqqqqqqqqqqqqqqqqqqqqqqqqqqqqqqqo=\" type=\"audio/wav\" />\n",
       "                    Your browser does not support the audio element.\n",
       "                </audio>\n",
       "              "
      ],
      "text/plain": [
       "<IPython.lib.display.Audio object>"
      ]
     },
     "execution_count": 8,
     "metadata": {},
     "output_type": "execute_result"
    }
   ],
   "source": [
    "IPython.display.Audio(recited_words[3]['mp3'])"
   ]
  },
  {
   "cell_type": "code",
   "execution_count": 10,
   "id": "671adaab",
   "metadata": {},
   "outputs": [
    {
     "data": {
      "text/plain": [
       "'ABSENTEM'"
      ]
     },
     "execution_count": 10,
     "metadata": {},
     "output_type": "execute_result"
    }
   ],
   "source": [
    "recited_words[3]['text']"
   ]
  },
  {
   "cell_type": "code",
   "execution_count": 11,
   "id": "de4ca232",
   "metadata": {},
   "outputs": [
    {
     "data": {
      "application/vnd.jupyter.widget-view+json": {
       "model_id": "a02b06225f0e4815832c4cb5eecfeee5",
       "version_major": 2,
       "version_minor": 0
      },
      "text/plain": [
       "  0%|          | 0/176850 [00:00<?, ?it/s]"
      ]
     },
     "metadata": {},
     "output_type": "display_data"
    }
   ],
   "source": [
    "for i in tqdm(range(len(recited_words))):\n",
    "    with open(f'txt/{i + 1000000}','w') as f:\n",
    "        f.write(recited_words[i]['text'])\n",
    "    with open(f\"mp3/{i + 1000000}\",\"wb\") as f:\n",
    "        f.write(recited_words[i]['mp3'])"
   ]
  },
  {
   "cell_type": "code",
   "execution_count": null,
   "id": "71c85d4e",
   "metadata": {},
   "outputs": [],
   "source": []
  }
 ],
 "metadata": {
  "kernelspec": {
   "display_name": "Python 3",
   "language": "python",
   "name": "python3"
  },
  "language_info": {
   "codemirror_mode": {
    "name": "ipython",
    "version": 3
   },
   "file_extension": ".py",
   "mimetype": "text/x-python",
   "name": "python",
   "nbconvert_exporter": "python",
   "pygments_lexer": "ipython3",
   "version": "3.6.8"
  }
 },
 "nbformat": 4,
 "nbformat_minor": 5
}
