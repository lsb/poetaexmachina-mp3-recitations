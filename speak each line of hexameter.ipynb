{
 "cells": [
  {
   "cell_type": "code",
   "execution_count": 1,
   "id": "3d447bbb",
   "metadata": {
    "scrolled": true
   },
   "outputs": [
    {
     "name": "stdout",
     "output_type": "stream",
     "text": [
      "Requirement already satisfied: datasets in /usr/local/lib/python3.6/site-packages (1.18.2)\n",
      "Requirement already satisfied: pyarrow!=4.0.0,>=3.0.0 in /usr/local/lib64/python3.6/site-packages (from datasets) (6.0.1)\n",
      "Requirement already satisfied: packaging in /usr/local/lib/python3.6/site-packages (from datasets) (21.3)\n",
      "Requirement already satisfied: requests>=2.19.0 in /usr/local/lib/python3.6/site-packages (from datasets) (2.27.1)\n",
      "Requirement already satisfied: fsspec[http]>=2021.05.0 in /usr/local/lib/python3.6/site-packages (from datasets) (2022.1.0)\n",
      "Requirement already satisfied: xxhash in /usr/local/lib64/python3.6/site-packages (from datasets) (2.0.2)\n",
      "Requirement already satisfied: pandas in /usr/local/lib64/python3.6/site-packages (from datasets) (1.1.5)\n",
      "Requirement already satisfied: tqdm>=4.62.1 in /usr/local/lib/python3.6/site-packages (from datasets) (4.62.3)\n",
      "Requirement already satisfied: importlib-metadata in /usr/local/lib/python3.6/site-packages (from datasets) (4.8.3)\n",
      "Requirement already satisfied: dill in /usr/local/lib/python3.6/site-packages (from datasets) (0.3.4)\n",
      "Requirement already satisfied: multiprocess in /usr/local/lib/python3.6/site-packages (from datasets) (0.70.12.2)\n",
      "Requirement already satisfied: huggingface-hub<1.0.0,>=0.1.0 in /usr/local/lib/python3.6/site-packages (from datasets) (0.4.0)\n",
      "Requirement already satisfied: numpy>=1.17 in /usr/local/lib64/python3.6/site-packages (from datasets) (1.19.5)\n",
      "Requirement already satisfied: dataclasses in /usr/local/lib/python3.6/site-packages (from datasets) (0.8)\n",
      "Requirement already satisfied: aiohttp in /usr/local/lib64/python3.6/site-packages (from datasets) (3.8.1)\n",
      "Requirement already satisfied: filelock in /usr/local/lib/python3.6/site-packages (from huggingface-hub<1.0.0,>=0.1.0->datasets) (3.4.1)\n",
      "Requirement already satisfied: pyyaml in /usr/local/lib64/python3.6/site-packages (from huggingface-hub<1.0.0,>=0.1.0->datasets) (6.0)\n",
      "Requirement already satisfied: typing-extensions>=3.7.4.3 in /usr/local/lib/python3.6/site-packages (from huggingface-hub<1.0.0,>=0.1.0->datasets) (3.7.4.3)\n",
      "Requirement already satisfied: pyparsing!=3.0.5,>=2.0.2 in /usr/local/lib/python3.6/site-packages (from packaging->datasets) (3.0.7)\n",
      "Requirement already satisfied: certifi>=2017.4.17 in /usr/local/lib/python3.6/site-packages (from requests>=2.19.0->datasets) (2021.10.8)\n",
      "Requirement already satisfied: idna<4,>=2.5 in /usr/local/lib/python3.6/site-packages (from requests>=2.19.0->datasets) (3.3)\n",
      "Requirement already satisfied: charset-normalizer~=2.0.0 in /usr/local/lib/python3.6/site-packages (from requests>=2.19.0->datasets) (2.0.11)\n",
      "Requirement already satisfied: urllib3<1.27,>=1.21.1 in /usr/local/lib/python3.6/site-packages (from requests>=2.19.0->datasets) (1.26.8)\n",
      "Requirement already satisfied: idna-ssl>=1.0 in /usr/local/lib/python3.6/site-packages (from aiohttp->datasets) (1.1.0)\n",
      "Requirement already satisfied: async-timeout<5.0,>=4.0.0a3 in /usr/local/lib/python3.6/site-packages (from aiohttp->datasets) (4.0.2)\n",
      "Requirement already satisfied: yarl<2.0,>=1.0 in /usr/local/lib64/python3.6/site-packages (from aiohttp->datasets) (1.7.2)\n",
      "Requirement already satisfied: frozenlist>=1.1.1 in /usr/local/lib64/python3.6/site-packages (from aiohttp->datasets) (1.2.0)\n",
      "Requirement already satisfied: asynctest==0.13.0 in /usr/local/lib/python3.6/site-packages (from aiohttp->datasets) (0.13.0)\n",
      "Requirement already satisfied: attrs>=17.3.0 in /usr/local/lib/python3.6/site-packages (from aiohttp->datasets) (21.4.0)\n",
      "Requirement already satisfied: aiosignal>=1.1.2 in /usr/local/lib/python3.6/site-packages (from aiohttp->datasets) (1.2.0)\n",
      "Requirement already satisfied: multidict<7.0,>=4.5 in /usr/local/lib64/python3.6/site-packages (from aiohttp->datasets) (5.2.0)\n",
      "Requirement already satisfied: zipp>=0.5 in /usr/local/lib/python3.6/site-packages (from importlib-metadata->datasets) (3.6.0)\n",
      "Requirement already satisfied: python-dateutil>=2.7.3 in /usr/local/lib/python3.6/site-packages (from pandas->datasets) (2.8.2)\n",
      "Requirement already satisfied: pytz>=2017.2 in /usr/local/lib/python3.6/site-packages (from pandas->datasets) (2021.3)\n",
      "Requirement already satisfied: six>=1.5 in /usr/local/lib/python3.6/site-packages (from python-dateutil>=2.7.3->pandas->datasets) (1.15.0)\n",
      "\u001b[33mWARNING: Running pip as the 'root' user can result in broken permissions and conflicting behaviour with the system package manager. It is recommended to use a virtual environment instead: https://pip.pypa.io/warnings/venv\u001b[0m\n"
     ]
    }
   ],
   "source": [
    "!pip install datasets"
   ]
  },
  {
   "cell_type": "code",
   "execution_count": 2,
   "id": "9672c2bd",
   "metadata": {
    "scrolled": false
   },
   "outputs": [
    {
     "name": "stderr",
     "output_type": "stream",
     "text": [
      "Using custom data configuration lsb--ancient-latin-passages-fe81f3ce4b3abf65\n"
     ]
    },
    {
     "name": "stdout",
     "output_type": "stream",
     "text": [
      "Downloading and preparing dataset json/lsb--ancient-latin-passages to /root/.cache/huggingface/datasets/json/lsb--ancient-latin-passages-fe81f3ce4b3abf65/0.0.0/ac0ca5f5289a6cf108e706efcf040422dbbfa8e658dee6a819f20d76bb84d26b...\n"
     ]
    },
    {
     "data": {
      "application/vnd.jupyter.widget-view+json": {
       "model_id": "bda98c5692a3412f9588f206303fb831",
       "version_major": 2,
       "version_minor": 0
      },
      "text/plain": [
       "  0%|          | 0/1 [00:00<?, ?it/s]"
      ]
     },
     "metadata": {},
     "output_type": "display_data"
    },
    {
     "data": {
      "application/vnd.jupyter.widget-view+json": {
       "model_id": "e90dd6e1d30f4749b6682634f23349e5",
       "version_major": 2,
       "version_minor": 0
      },
      "text/plain": [
       "Downloading:   0%|          | 0.00/19.9M [00:00<?, ?B/s]"
      ]
     },
     "metadata": {},
     "output_type": "display_data"
    },
    {
     "data": {
      "application/vnd.jupyter.widget-view+json": {
       "model_id": "0892160b82894396b939239bd33c89ba",
       "version_major": 2,
       "version_minor": 0
      },
      "text/plain": [
       "  0%|          | 0/1 [00:00<?, ?it/s]"
      ]
     },
     "metadata": {},
     "output_type": "display_data"
    },
    {
     "name": "stdout",
     "output_type": "stream",
     "text": [
      "Dataset json downloaded and prepared to /root/.cache/huggingface/datasets/json/lsb--ancient-latin-passages-fe81f3ce4b3abf65/0.0.0/ac0ca5f5289a6cf108e706efcf040422dbbfa8e658dee6a819f20d76bb84d26b. Subsequent calls will reuse this data.\n"
     ]
    },
    {
     "data": {
      "application/vnd.jupyter.widget-view+json": {
       "model_id": "b4821210ba9640bdbaeae7b81fdb6f7d",
       "version_major": 2,
       "version_minor": 0
      },
      "text/plain": [
       "  0%|          | 0/1 [00:00<?, ?it/s]"
      ]
     },
     "metadata": {},
     "output_type": "display_data"
    }
   ],
   "source": [
    "import IPython\n",
    "import requests\n",
    "import re\n",
    "import tqdm\n",
    "import json\n",
    "from datasets import load_dataset\n",
    "dataset = load_dataset(\"lsb/ancient-latin-passages\")"
   ]
  },
  {
   "cell_type": "code",
   "execution_count": 3,
   "id": "4202a95b",
   "metadata": {},
   "outputs": [],
   "source": [
    "vae117 = dataset.data['train']['/vergil/aeneid-1/1-7']"
   ]
  },
  {
   "cell_type": "code",
   "execution_count": 4,
   "id": "72852dcd",
   "metadata": {},
   "outputs": [],
   "source": [
    "vae117c = vae117.combine_chunks()"
   ]
  },
  {
   "cell_type": "code",
   "execution_count": 5,
   "id": "1498e6a0",
   "metadata": {
    "scrolled": true
   },
   "outputs": [
    {
     "name": "stdout",
     "output_type": "stream",
     "text": [
      "Arma virumque cano, Troiae qui primus ab oris\n",
      "Italiam, fato profugus, Laviniaque venit\n",
      "litora, multum ille et terris iactatus et alto\n",
      "vi superum saevae memorem Iunonis ob iram;\n",
      "multa quoque et bello passus, dum conderet urbem,\n",
      "inferretque deos Latio, genus unde Latinum,\n",
      "Albanique patres, atque altae moenia Romae.\n"
     ]
    }
   ],
   "source": [
    "print(str(vae117c[0]))"
   ]
  },
  {
   "cell_type": "code",
   "execution_count": 6,
   "id": "28ba7560",
   "metadata": {},
   "outputs": [
    {
     "data": {
      "text/plain": [
       "7"
      ]
     },
     "execution_count": 6,
     "metadata": {},
     "output_type": "execute_result"
    }
   ],
   "source": [
    "len(str(vae117c[0]).split(\"\\n\"))"
   ]
  },
  {
   "cell_type": "code",
   "execution_count": 7,
   "id": "e1c73cf8",
   "metadata": {},
   "outputs": [],
   "source": [
    "tr = dataset.data['train']"
   ]
  },
  {
   "cell_type": "code",
   "execution_count": 8,
   "id": "ff6372c3",
   "metadata": {},
   "outputs": [],
   "source": [
    "vergil_passages = [p for p in tr.column_names if 'vergil' in p]"
   ]
  },
  {
   "cell_type": "code",
   "execution_count": 9,
   "id": "bf53d47f",
   "metadata": {},
   "outputs": [
    {
     "data": {
      "text/plain": [
       "540"
      ]
     },
     "execution_count": 9,
     "metadata": {},
     "output_type": "execute_result"
    }
   ],
   "source": [
    "len(vergil_passages)"
   ]
  },
  {
   "cell_type": "code",
   "execution_count": 10,
   "id": "d22df455",
   "metadata": {},
   "outputs": [
    {
     "data": {
      "text/plain": [
       "16082"
      ]
     },
     "execution_count": 10,
     "metadata": {},
     "output_type": "execute_result"
    }
   ],
   "source": [
    "sum([len(str(tr[p].combine_chunks()[0]).split(\"\\n\")) for p in vergil_passages])"
   ]
  },
  {
   "cell_type": "code",
   "execution_count": 11,
   "id": "1a0df176",
   "metadata": {},
   "outputs": [
    {
     "data": {
      "text/plain": [
       "{'e', 'm', 'n', 'o', 's'}"
      ]
     },
     "execution_count": 11,
     "metadata": {},
     "output_type": "execute_result"
    }
   ],
   "source": [
    "set(list(\"someone\"))"
   ]
  },
  {
   "cell_type": "code",
   "execution_count": 12,
   "id": "66268fc7",
   "metadata": {},
   "outputs": [
    {
     "data": {
      "text/plain": [
       "'\\n !\"\\'()*,-.:;?ABCDEFGHIKLMNOPQRSTUVXZ[]abcdefghilmnopqrstuvxyz~\\xa0—'"
      ]
     },
     "execution_count": 12,
     "metadata": {},
     "output_type": "execute_result"
    }
   ],
   "source": [
    "\"\".join(sorted(set(list(\" \".join([str(tr[p].combine_chunks()[0]) for p in vergil_passages])))))"
   ]
  },
  {
   "cell_type": "code",
   "execution_count": 13,
   "id": "d7a3be8c",
   "metadata": {},
   "outputs": [],
   "source": [
    "vae11 = requests.get(\"https://poetaexmachina.net/mp3\",params={\"meter\":\"lrlrlrlrlrla\",\"text\": \"Arma virumque cano, Troiae qui primus ab oris,\"})"
   ]
  },
  {
   "cell_type": "code",
   "execution_count": 14,
   "id": "5b6344d7",
   "metadata": {},
   "outputs": [],
   "source": [
    "with open('vae11.mp3', 'wb') as f: f.write(vae11.content)"
   ]
  },
  {
   "cell_type": "code",
   "execution_count": 15,
   "id": "9ff08283",
   "metadata": {},
   "outputs": [
    {
     "data": {
      "text/html": [
       "\n",
       "                <audio  controls=\"controls\" >\n",
       "                    <source src=\"data:audio/mpeg;base64,//NQxAAZIb3cAU9AANwFYrJlOaaFqQetHm4QhUiPgG4Mc2AAGAjoIlBCFg/ydoWIhAoKA0AUAUBYoNA8kXFz4IMFz30RK+Sz7IDgPKFDJLFz30Fz7hEr///6/0SpRN+ESSDELg+OB9RyDjv2FHcMf/l1xEbDfugPdgPdhVb/arJ0RP/zUsQQHVMejAGPaAC+EbEbKYOsUwkQBXAygihTMDQOgVALyI0B5gCmgg0FvErRL4cgfjUkVUEEHOpqH00NTEoDING+SZq6d3HIbGqrIf86ktfTTW9b///pqRUZ79kHROFSTX7////9//6bazQ0/+c/5dWbdbbINNys0jlM5hLKo8gE//NSxBAcsaqsAZjAAHYLWxIMWNCLIIiJKG4LXB2gPukMgDMawUcFeLRqBiWxEpnymjqWZA9D5xqtAsvkWXLE/Xr8oMoDpPt5yzUvt9w1h19N2N2u0sznzVvWsLFPb7h//lRTneb/+Ute/a9Vv///rf/dyVEIa5fPxeEBEjUJt2UJoiP/81DEEx0xfpQB29AAhuS049RDBkciMgYTcZR4QgSZBnyoGVswTmMmsFYpq04svYe9AJFCokFB3vkC5nxltP2diU/yzeq3qe3fjzlRHKnvvQ/Xe5Vu673u7mf8zlNTP8bEPUuNmlrUbgaMyT7fnaX//lO/otPljXghIY5AKGT2BGWN//NSxBMeuYaMAM6elK0jwkWlJAQGZi2diCf9rElqMqCgUG9jQFRUG/ipTSITD1ijGw28j0FwgCBIwxvtNTPsTSHKrUJYmyWVWrJfiwK+DGOZOn4sVexJ5Js69tXx7aeV3WLGneTbxiA7/Wtba/////sch7wi8xIeFIya0SwBQABcCZP/81LEDh1BiogApt6U0T3mDLAZxK8uN8ouFh85ckSIcCGkOpiq0Pl48JIQuwpuYeeGWAC3aeEw0pIrAblL2zLjzkrrakv84grYOpumywNIjMW3zCi7/y2Ldvnt0tsZhwjae/4bnu63bt29TDf///251am1jf/8LsOFa9Wt2UKIj6kurP/zUMQPHLFqjADOopTW0OAV3AuOw10GkthATgoVNdoZaoGSAR82o61BqwjBmFPhF2KPI8a5hZYzevY7BSIhbRQRL4avLU1L4pgIwS5VKpwjBmCopblA8r1PzBJS1zUmgSNg0en/8T3B5Ez///vrZQ+u/XK9YRBJNUl2w0sA3rljeVn/81LEERipIpwAzrRwa2bPmhyxvwasCPO4dmZppYyPNSUBwaAo2mGSsTnmkHZXHn9MMiGhTrX881kP9Pd1UXQ82OGLY1YoCoJXG3Qh2U1e4RiX9k9LZYxd/9ksLHQZVdySA38owgwQJcu2qpqoI5a8C9mkpel7AANOBoT0sQaU7MoZ1P/zUMQkGlEemADGHnBJjYOC/ELXKTUAXB6SKtSQcQF4TJzdMVXzlq12JPPn8JQkpOFpQ8hp0NaOXcjExN2BCJQDB/DAfid6w+j/2f///LuSF4ZV3rPCbGMsnqV8+IySa1zaWhEym3aeFTlZvKTjA1A5uxngSMxrb7Gq49N4jsm5N4j/81LELxlRNpQAxh5wDqNqA3DsLSIxqZZGYrkgXNmcm5vW6eDV7oRjCpAk8gEnioiNmRiA2HijV77f/9P50qC1P7UaVe8wm1UjNRGkOXTRsGGh7YvWVWcyRgTEZE5EMl7yonFp19KIRgmYEsSl4/CLr7YzkriCBkx93KINPz/7kbk9yv/zUsQ/GdEmjADWcHBaRkYOPGaJiUMIMN7OP9I35efvM8Kw9wKute0cFcYjhy3///zn/XLaFce1KsoOCtQtc+WuKAXgObs0d9sycwgig57EHHUcIUo9gjMkUGCgMwTUxAtJBQFIpKkUl3JFjk+DpSt9ULu5UfNqkCDGVZrU5wkmpGTp//NQxE0ZCRaIANaecFAL4pYDc/OlN2jQ6UI/6/93//+vd//0Kq3ctMyOWTsYtMvCMGimlXU1J0tHZn35yYYGZmKedSVLQsNovgcv4nFduzCLerY32f8au/OZCug4bzwFinw3lyB+J2JRjT9rvdZd439We/fzHxX7EsR9z3izrP///f/zUsRdGVlSfADeHnBOpHgI24KtqVXDdNBJCUPfjbtUsQKY0AVjoVS5QANVkP5WEM1+73EiQY0qBruEoQvcXum060Dp90mqt/LYYap+aEHJcqqwV4DaGCfUCA9t8eGHVioaUFy8RVtn6+pQseU0Y7+r+r/6HtJXNSrGzDadgNdnr/F8//NQxG0YmRp4ANYecOmhtnYW2s9k12ohyJlO/El8ExkVq6XmaIrOnMfpuZr5uvBYGRvMWbxo5yXtt4MBHT0yI+pZz8mLuLcQZEIQn3rMzRIfAKgWDpsM3xxB8PDVG7opGoVFvXX9v/+jZ9HDWNogAj6ltaGYggwS5JB25gGkzVsQw//zUsR/GfkWbADWXnBs4mgqZNmrM+HUHbZTQEmYnIAsEAgc4NMxYNz5UwEwjKEv4ziKfN4OxRRjtfONzUgmPp7cUjVvO5IK03nyr48QPYU0qc8n6f31qtdoI2IhoBLLYmDweQBxkBGuiRzBfgbZEH1SqYgwLm5hOZTB4CEKCUwAIDIz//NSxI0YCRKEANawcJjJ4hMNAMgApYIJiYUgMHodmXhQUsWJooTANFJlQgBIkAJdcxddcUUlVG/ak3YppbCU7KKY3NKCN/YktKyyX44qL6g4xWkVsIt3Bpc/oiukEjFW7bBHlU5GRzEcd1JT/////TQibgrwNfmv6vXueomQJSx4cZH/81DEoiYa0nwA3wS5qXAUcDONxH9SHAkAZyagAIRBLchA7O2hgxGDkHVzlggBH6MBjRLQwaDTIalNzv4zOFgwEolmDSCZ/cRQUVyO0o4ABCkjY5OJCSOQ0boIURel69YBA6eN56mHhACc6KSpuAiAin6bHAOgZBpg6OuiAEzxMAhV//NSxH4riuZ0AN8KuQhAUWZCEM6nFndTmMVEFJSEHMsTUVOoTExUrmR9v/r/2//0VjvEWswkLa45MCkxaiq/fwl4INxWBWgDIFUuAgYCJ0/7OEujK0mM5gYkAqNihhgg3nCRUMgGFkAoNPUIITwyAwwHBgsMfTsoJwWAioaMCHsz8P3/81LERSnKDnQA5x6YONGlpQiDQOFUXmXSTQTVpaklbE9sM0rwspRqg+inA3kJPJjih8OcW7YnDqvaVnVNe1s6hvEs8hPorUyPaz5xWv7//MDUb2jPLel275pSDrcuZN0mrWEhL7PY3/B2Eaqk9cxV3q69AWZkfHjgUKgJoVUZaANTxP/zUMQTHpHOgADe1pSgJNV8ghUSvaWqcAVhooAjiFQQzhkNDFzJBQvwIgow4OU7AgeGCrpUBgQC5N+Uw4taXf8sYNZ/i46ak6N4Ex6DQ6TYgd5PJu/UNvhFtaCKLbY9m4sfD6T/7/inRvYW0yrNTsy99//61fwja0DDp+Gk4rtDBOf/81LEDR3BsnQA5pCUNdlgiFrnqcJCmvp+PnCImytMYyqVGZTlOg0aQxYtKMwZwxgVS1C1fkFzECLYpK1Nk2+P7dq3vmANauSQhVShCD2lcOR9KHVei3V6XOrC08ED6xpItXU/u9WqKUTWACTXup8Mx/1J/u97qa1LEkjTLWsIXX6jCf/zUMQMGWjqeADe0nCucYyqCr3cUyE7PnNB4jRBDAMKgoC/nrgt2kvDEQZZ83GH1ZbY1Ng2GXUUJYRgkJfGmoS8Y5+gJTIhdOr7GQ0KB1Blqjxdijjgs8oGlCo1fo156e7l/tlUX0LduMKnM8aQ4jXQ7ZgQQfSGg4ilrTxHSmTijJb/81LEGxiZCngA3sZw4CAo06gFneEp8GADZqYmsppjts1anbwld0dRgDFh7qA8RtJTPi/z0EbRO1RzQavETmSag0hxNwmJT5+nX/q70VN27FI7HE017rN4Bn0/kUYmYjobVU61K1o0R0ibTTckLgqaQjDRTcACGKzIDw5lGsdLIgEOxv/zUsQuGxnihADWSpggRQIJHxivQOXhOVa8b/vdXufvO93esP+qEYQLVV32qfu///0LWdUOJnOgEGuQxRd40+f///bxBS8ebRchworm9wUIV1jnxULSgskurNvqY2dLOy+MEClqRiASTJXltoA+j0lxeGiP5xnfNVu9ZDW18qnczCxe//NQxDcbCd6IANvWlHeRphEgCjTAjHBWTysgmPt7Z+L+P+ZqmX/P8t/pfpBC34iZ9zTBc8Rmjy///5eccYMSbl6U1d/hKwqYReUR4YjjKRVdUOsIDGlLhX0F3Xou2oxrawOyW3kQretriusNiut7r02sKRqvtvS71/kfbUDAwAmLSv/zUsQ/GbnijADb1pjBDBLIF9ktNkm5u/3/9/23ubvit/V3zDv2mtNUKvP///6a+XPqZN/Q/9SUKKXzziQh3HFFMT4zITGKDKOqo6yvLdZ0oE/VM/1j8oanP4L55q0ZwpVtalBNHjiaIRF2OUm7k+Uw30PUa+S4uJvp1K6fuDhhtywB//NQxE4a+S6UANZecJQ1KG1ggYNIDoYQHEJCgbFwZd//6EOVqQ3eARdbkaSGJzAqlCw7L0xCG4/hVdsYbUchKIJfhJlVpfnr4zln8pot6uakvqWGyRIb5zYJm45esNK7JKxyXRLzE65OliUjIUSDVT18fybiQoQNMBqHXpCpYegOuP/zUsRXGQkqnADOXnBKRAoxj1P///+vXcsNKq1dcq9Uf0eHTR9BoFsjz4FuQaokaB+rh6f0BhgrqJnMORSqN9M5EIOilR9CAJSyKKEp1BO4r7V9o5rDZwcyuWlzI5h+R3AlBwBBo6pTHHXo+3uVmlNyZy8V72rNMpsEGwkTku9Yf1/6//NSxGgaSaqMAMPYlDTV3rCuIojeLMrjJYKE/hecNv4PQlmU3Kl+sMru++CVDBK0jVODFLok0Mu0gLhFJQLDTnbsdfWQVeoTczi0HyHILRFtg5AFCpwjKHJpP+tQ1+q1PE/UrPlCtUxQscTCm4rv/Srtywy8uQccBJwMDUASfNSUB4H/81DEdBhJqogAxhCVGbvo6Qdev2fp3cEeIqCv5krOwrUA1Ac3Flqp8DLI0GrGcwQG86zvOVlLeWA3TnhsUslMwo0SmtrVKQlcz5jer0EwUCTiQcsUecJUtqcgfEnY6KXRP/IVOUJ2pF1dfX8btckrwipY3fcHCiQA4bADbmQWQYmn//NSxIcceRJ4AN5ecDWAQVNAOatKHgERExShCBYN4X5NXCA8tWplCtimRmwwki1B0TZyyeL3YZTtB1HAoqjhM7t5Y1ZTSc3e7g5F378ta/b/G9P4uBV5IrNtsct9VHzst/+xB8ooBiBQUe/fonSENQHCjY2YPSYQjnOFiOMDOC3ERG7/81DEixxxIngA1rBwmfSw81kRBTgDGSOFBbCDCAEL4lMP2CA4QZdbChwhpXfL+ENNxhHc5mWz+/+1K9Z5RF1VSWa+MZfSb7wolf+6+Zfk5UaZymbb////69Fc0pCGVgQThqzGtZlyXpmdKECrXoozlgBqkCRBTuVnmFBEaHnEeWVv//NSxI4bunZ8AN6EucAVolx6eX1Di9U1Cv+Glx7tY3nRl2O+ZZ2OZ4zMs/8ar60eXJ1yobh+R1LUSgZ3AxZUJ6k1JfUjZjsrUcUFCxtG5P///8ynvEisR2QP7JbHWdIsGZBGmmg7OoBlghBjA9QwoAWF7CE7wMooWzvxkRBCWy/GUUX/81LElRtycnwA3gq5WTrf+zzN9aT8d7hmxz/39jXf1Tc79WUyzLe7kMtkgSzulmQKjLZre7aHP6HMqmm6Ta9bft///9ENNS7qRw1V/G1By9jJBE70IU1XsiuBhU49wIwxtnMXE0EAyyu4n2jfkoK4eiFWx6dEuy3Ud9Tv9b1+PN/9Tf/zUMSdGUpmfADeDrjVeKD/vCQGx3JIsI3PITBFPpNfyc3QvCVxwzfpNVwYxTXhwUy3B52DzT5d36kA0oFXe/P6ZPKKrVY88JCBGbcRrYQytDZjDOjfv8y4NnErXaBCw6VNGp/4CiS0wcElcjdHlty5yPyy03OVcx3lK+/luY73/+n/81LErBtZ2mwA3tCUJ7v8u0aPfD0a7OedPamzf+2//Blzlnmb/uy2+EFtTaPyrFgaWfPqNQI+X0//d3/11eX5ZC2gHKvwQqLqdgvwYaFnprhEVBACpiqYwXw0oKHFRNygEwq0OK0khfRpCKDJqWNS6q/F6/dqQ5A2evm7/4VANAie3P/zUsS0G4nubADejJiAETdKw1pwoiIZ3DzfH/2am7kp8vX8I13ueLXlg3FBY6D4KhQmds3enTi3d/1pp9dssPNWv2AuRC2lCBRdtgzrVWsHS1D0FQNACagtjCn5iUTdRWGHqWXQAGQuJDGkHPxlyuXNRAftvoBAPQ5AFAVipGbwqYI6//NQxLscwc5oAN6QlDZIDBxrxh0o8g1esycFgu8FKqyv9K///bv316nHCVv4Sh5zdIJBctn1liNTIkeBKeYa4D5Ydmos+i/iZymsQyIwxp2HJq+ucODluMo3dt67uJv1lvLUkpfvV43GZBTUa5mO5x6VRLazQ/C9A1cT0Dvui//v///zUsS9GPEmbADeUnD2f/G6uOat0HFY6Ws1h639uwZ37v1BiZl5lKq9TYydoB5BOLAKm70IHmUJAXBE6GkAQIMpoilcuJqyGM8T0owUkjlgkiaRgkJLSoAbRCYkXXOvdCW7VLXzzlt7uGETHb0UD6SjWngfHcYLkUuPHYKDJo3G3y77//NQxM8cyeJsAN5WmJd/Wy6m4Upb3ATWdFltqdT3//bs+2jb8B2MUPaUKdG66vJuUFJeH6wCtXJSkHbjJ5OYOeuKKC5xxBvyxFdKVZ4eiRaOLskMgPTNoFiyGgiWFSmP0jaOHB1BTcmKa2zaohL5bSFWJtDMCqNRUTngZDrDBWvN5//zUsTQHOl2cADeVpTWcv1Wma03uYcjZpt1zuUvS93lkL7nSvu4ZC4FGNItd//9G5Wvs6lis7GmZAUgCUuOUR2NpetAeaTFugWy5kamkSU1VVW7ic0WGqTmUZBQvQMKEOo0I/lVu1n2o29dUUHDjGTTYVU1h/SO6+R//J7HVRr+oDAI//NSxNIgscp0AM5YlFVmoCJcEjws8shxN1f+5M6hTd3/rRaLeCnm7MkjZbWzsRg3wwzeAxqJQPIkSfUe7Lq+NXzu980/r9xqbLInc5kocHENV7GMioY3nnmRmShS6cTowR39fdA+K0x1Bb74903supp26dIglqTvH4pRMZRVsgmpXHT/81DExRjxymwAw8aUFbc+lYFnYtdjT8RJXEwk2qxaSrSEgIexNp5nMBSAhOGaCxQmhFhB4yIuIVMgI4iEJogqRGk0ZHThicRUXXqW6LrrRUupJrWQZNmZJV13UtSa2nj0276hKfhFbQR7IKMErU01E2nK33M1P8RNczPa1U/N/E/F//NSxNYZEWpYAHvGlSVQwwSvvF3LxR4cCIDgUEIFgLEkwYcNBWF8QwFwFwjHDAaGLS1j46psMXUAKgMx40HB2Xs7MImOzJDoaVjEwqBMmHR+e2NBmNhgwtoHuAixOy4PAc5IHjzJoumpq/qWzrvZupOpa03UvRtnL/R6//ZaGczvbM3/81DE5yYLKlwAxNC9b7fbrX/+tv/M6dnX0VilKEGnKhpsxjGFBRqn6r85H0yjGiOeZdQOABYHByJKGDwmXWDgaY5YbIGCK0oACruEkKtaYgybL9FqjICCEKZgYhPV/DD6WZHY7f1vPuHM+56+qDnkmJFzK5wQXaRuQn/7rV6HkWtn//NSxMMacw5wANNEuXZXRLoKg8k9dZ3/+r9NdE1CJIVHF0V1prsmQ6may6pYXedcCps6IHUjhYDGAxgaoM4sYlKWchwjOGCzBg0cHjByMwwrMwFzDTww05NIIkAQsmCRkUBJgIUZYHBUDAQWVAYDG6RiABBIYMHCwI+KCdPuSxdpbzv/81LEzxvZxnQA5oqUuWMp1c6/Lcrh/KWUcOVJ+JLsiMX7edL+KPcsXWy4U8tw7DkRwVg3BWIRpgKwqFxBFwBwTCh1OAuCgFZQASKXMMdy7+f/////fuUph21W8VFJ/1pV+iTeW/pXwZR4fm04ev3WfU0Yqks6w8yYXOQC0fmQmDhJ6//zUMTVL+r2gADm0LmKBgc01WQyQgCQxaWIzk0ZbWZWBzRmCHKJBMtbkmEmmgQRVT5jBbRLVMVvEpwTh7HAdwwaf+G2jls01K8ANYLwOvDac5jG9kLelpCeNytMgp9YDC1KURR7BEfYscWwuDgRTIvIAiAilLgSCKdJlqQGqU4KhZf/81LEii6yvowA3hi56Ia6/qDgzagUtdS96TOzMzMzMzOfNM6JuXMmlKd+UmepnR7NPY9APCp3tUi7HiL8Vs6KYGfkxOAQkDVJ5wgJg5k+NARLor/tVs/psdLvlBS2N1H1nd7j178aBpsV3SwqM7qPG3uNmAGUxmAdgdDMo9oedKxrLf/zUMRFG+HurACmHpjuomtx48d+/34kCnp5qUtPuHOx1q/XFL072LS9NZkrWv+/rz4MA4//9jq6//6EGxtxgIOR3sUyUpnBFY2whEP9uOP+CpI/hK6b4Ymf6yw2+NutZVrI/ywoapmk/h6hvk8O4HMQsTSOdpYRzCUVJ0oZM/XB1Nf/81LEShspvqwAw96VG17apvMS760GNDiwFfll7MoFp+ytycYpYkOkG17pF6iGq93D/jphByOUQaIowG03lGsCZisCYVwwD0jI2apXStWldZdZ2Mmbaz7Ur20ai5G6P12snwgWNWRjtlaEOUXfanq91X/WcQn2/BYnLWVarZJW6KpmOP/zUsRTGAnCpADLXpUWX1RHr3GfqJfK4irMqoRTSljRhEoy9jbGA6b6NNHBi6nhBByoOOqJWoZu//7vrXiYvrKmbFRx0B82oBJTqIlKjHoTG9ehpl8nbT29kza/blutXce57aGVus9Xc36TFemy63jzjPhkOVjuvfZQwlWx/LZKBaqi//NQxGgZMgqAAMIYmA1aYESApsxt2gZu+rCiZiSQf7UQUz0iwzTldjhd41J1+1yUOOInc6+QYgRiUZoWDIp8jA3aicy1J7iEUzyRdyNgEGCYHkFmrmTTRncm5T9+w1L75DLn1ZUrkapw2mtSa+41clIpni1iHw1BkuEbB0KMM0tqaP/zUsR4GPKmaAFPGAFFQGXLwnkdgstAzUOMgBBA/YOhBug+iH3FkFELgAv4DyAOATghSxoiyxBhNkTC6oUkTo+h9qnVIMgXSfUVjhgopEFQMnQRMDTonXTRM2Ws3KBUUZI0SgThsRUgTUFUtPQlMi5aIuRMzKxgmgxodLhuT0xUYmrI//NSxIov48p4AY+QASknTTqTOpVqsp8rnS2RQrDmFQghqQcqkHcnzi0WWtFAmjYvGJOFMipMIGv///Wkg6H//k2uapZeflr8XEjlatLFMSEiKZ79MXrUsMqeNrLuX6FljIFqHEyC8xEnlHJGX4ksuMQEOANUmNxuUdlrc37b9RIHQF3/81DEQCjKOogBmsgAoHjYYff+Qv3DcjlgjZKgQ04QhL13zeH9+pY5+f7VHBdJTxvVLr+f/b2H56/X8ty+XxC7In8lcvdl2o1rf7//////yxlmP9///+fTy1udfMIfDZoGxKCwUx72uxgUJBwNCcWN1f/WVZdVFZwlKIIYdA0amW4h//NSxBEd0d6kAdnAAEsU2dGCYZBA4WEYpVwnLTv0Ersu6I8AoD/ROcCjzcpMynuVhEPCRW5miWkxCtyVOmj41DGadJsdPrdWdyvf/6z7/71h/67h/5azr557q1Jzn6tYd3qm7l+8cdTnNZ0dxACs////49X//UlKqrl45ZuiHoZ2eXj/81DEDxzZ6pQAzpaZwKw4plYrrNapgotFnk1BUTUeGGgcVjC+nnhkDnShG7y42DooDYCFXMnBTKu4U3aVD9+rsqt5KChddw6QHIxae6JZRfBsX1/FN9I2OOhUqH4mOhx6nNpI9LvRSpzpbTnTFo3F4ur/7jKgwDFtcqxYNnKqfOSu//NSxBAa0YKYAMZelQH+QwGeg5oYX/QNjj1NzAigUHbSC3/VsNKQ9TkFoxGQaGc4JMLf5Tq317E/vaTcIfkeE4HE7w3IgeLjChs7HFrq9Ja1/1v/5krT3uzssH+Ua/BrcGfxyaXmb/lq/PPPYdKG8t1X1CFXn8pWwmPhMKNtcXy9RxX/81LEGhkhppwAxhqUS+UsiVtLhNvLGnqaBcAG9CH6cZOVE1ujg0lpyWS3vrj0JYljqiesulE2J4wwXUJygoS8mCfFrGBdS+k+kij1sjakl0EW5iNMEcGq38RiKGhwAUumBHJZ8IC503VjDzBWpflfTixKFtmUxg6OuSIzPb8y/AEkPP/zUMQrGjkyfADeHnChXUo1kkcDfHDM2pslsKAztzjjrs00IZaQEQP1XPmMb50p582LSQZ4n+X3efpUsWIsDLB4FLCPf/////o30/t0kvMBaOsLZY68+FihphLmS6pDAeSnxyoFKYF1z1F2S28ILTScW3TpbmlKvqOXum0+dq8qU7v/81LENxfhInwA1jBwMZ1jPuLKd3HIcN1akQXIuXKxcUobrjvdmfPgHtr+JhOp6uz7P///+OX9Zt2MAjCZId99HbAh0uCju2GTixcM5pNCBreFJKIGzlb7rTVDEYkFgBFa7FEP0ghprJGVwe7EAxKchuVQmr9yUQFFp6rQutO1n8Xeqv/zUMRNGNkigADeMHDRqNTlJGJ7rTH/K0fq///+k+hqEO6tCssZdAhpgRZl1ljR9a5EphRkVAeiC5pspmKDxGUzFpbxrccCoaZzirXUPIEAew6h+hQ1CcZbDzKUQotBMyXnIWEkytdD1pJ1Ga2JkjXViHu3yjenHeBQ0K1o8meXo///81LEXhnxMpgAxl5w////9VZn3OvoqtZ4Q2VeYrhNiJJSqbmG9NmYM5cphC7TlRU4iwWCNqJ75a6AgWOcRX8ed5I8StOXR8AWOrrlDk9aqriXSsWsnrkZJJsWHAHi1h+WBGLXlQ7NWG0y71+NNAdpf//+3//9ddrapOnDddMsGmUWnP/zUsRsGQE6nADOWHBfAUQHXssaMOOjqi9SMiC5M4u0OZW5KYF4CqLDEj0YzIjyhvnA6wYKCubKri7363nRxXmHyL/rrRYoEToqAfKoECphA2bHkpaEAVXgtW0ratCSgQ/////9qN0YPUw68k5N3GZlUBwhLFJm0a9GuN9BwyC6ZFUQ//NQxH4aKWaYAN6MlDlLiTEJCd92jKiNC0SZXKF3THSSVWtG36pb2cqjV/Pe8eaytfvDrz81eHEtYsjN1ijCLOWzwVrMU1O9sS5EmNTPWqGPT9gE////+qGlJ0q9lMiMoLBY2qoNCTLgn1AhIg3nALgASZ0ebGB5tIAiIM1njZMQyP/zUsSKGOl+kADWTJTQiED4CJEQYkG0tlslhiPzu8Pz7zL+b1l/7jWfI7ZObiLQVaK+bmevv3O0L7ihw44mmWglCrdNptNP////+VeMvQwmICDK52+AjA0IpOsxAo2rADTioKMtROIvAR0FCDZxDUISZgVmwMlZGgMCBTXoNi1aNQ1T//NSxJwZgXqMANZMlGfMd5bw/et7/P+diq5UUxUhBtAju+h+3/0yyBOJp0BX0SNaQCdKv2rYv//7v1MKjBSYeEQeDvgQZvKUtANi7LFCACVbehUTCVqqbNZhtW5u8OVYYhUtwCYVp8Uq0RzgmFBfVYjYicixS0U2Q0DhgLoBNDypqK3/81DErBnBZnwA1oaU1W0NsdKnSQZ3WoY46dWM20PeloxZpReOsFyzGF4qGjSia6gP+cY4vBhFN/pbuLnGf8EKD8Q9SqFW/8fKALG3Mzb/yRvYzhBe4r/+Sg3RzkoS+LMKtVv//JmIoJuLiMYpH0HWWKMfzb///1wTRJKsH4W0vhPy//NSxLoYcR5sAVgYAPjixZioquGLH////M1+e6iUb432w/kINkrAv9p20FhtuvhRlM5f/////9WjtRyhRLEyC8H2dQokMUbktQWGChqGwoSeUzs/W2Ln1r////////mHEpDw//I1TEFNRTMuMTAw8QUBtzwGgANPDRQFf+BfwbmCt/z/81DEziwbMjQBmngAWIXCF1f+H2D4QDrAbP/xOgucmiQIv//jLinBdQBKAyOS4dv//8ZAXGTxECfG0JaFlYDX////4fAXRag+EBRwJeHyE2MqKCC2AYID0/////8TmHHjpDlwxmHQCDAxgUhcAbAKDSQE3h0///////4EjFyGakJo//NSxIkAAAAAAYAAAGuOQRcauD8O7FIwzF+nHb+MSxuTzJeUpPjoGATaYCSLvmUIuD0rAzCf38/MhEByhfUHDa+9KUAIdFhEnHBItLi2699ZTsZPDxBPFYMzdVYvqh1GlY4vf/1jisyufwlsyQpOg6Hw6LhKsaIvp0zIHz99fnHlKPn/81LE/yI73aQBkZAA4tEY8HdIJ0iladIVCWhF5EeIk9TJQw4vX/Tp6/uNv0WOGjZwThBXvsHhXMSITJZ04GRyVY1Dh0+ZHMKxYhQP/MzMzMzMzMzMzNte7JmZmZmZmZmZvGgCVUKntuPnMD2g3v71rAx9UjfXXQ2YilXIhuVTIUYVGv/zUMTsMwPKPAGYYACxL5UYgdXrkwY7CU9NCE0jZzYz40rwrod4VQzq2mSAnWd62ZVTzK2FPqqrSm22qRs+qQO8G81qDnMmnFzqPH9qKSFi01NRfEpvd8WiyYtqWBb3jf9KBL4Yvpjy+qqDy3BrEc5mXxK1LqVzI0/QCM55gimZNkr/81LElRfSzlQBzxgBGbLOkJkzKrqZxjqiLfmZqakOeTlVhHw7fLjFfI13DCjiJe5SFPk8GLpiktW7XbyWVOSt/15FxN9f+4ACK4dM4aEqRMgQcwG8FkhkGPChwyIJxSY0kAGYQHYGSBaICNFgqqSMCoM2XkSACDw1AdBgf1z6ZTFzkf/zUMSrF2MWTAFPGAAyJm6ZFBlSGhjIZhhsjt9lp2PJlwuMYl9McYtpcJgvEBGXJMcRSO6qqDMuorE4bpldC6KkDc4QIiZFyqLw1QWgx8vE0qkjZS0DFGnRSPLMzdbm5cTN2UgnPLMzo51IzJ0a5ukXi6Zl9Sv//+3//83U1Xr7T9T/81LEwi9rylgBmIABxbD6XK8dUgpZL2BGGWXxDduUi6ZZWdsfqw7jvS6wpkqGrYD2WRji6AIB04c0AS5RrhOpdDU2XRUNl1pWyJpD/InzQYWNkOBdqueMLYhLnBdt7UlIl77iJxlclRS+o9VHJqk8N/OnJYUBOI6aPvDK/+8w3zhel//zUsR6LrsieAHPeAGkP0zJNm+4cXbAqLtjJMr3WHlIc+Z3jPGeQ5GBQVvmRDGN28qxsEJUPFYySs7HPd48+Ks7yI/tE0/Z48B4/5EPSH92o0NJJDFKh7iSMAfgNasjt43w5wMOHAkHolq2Dzk4lmZ+uJZDDuh44mFig4i5ln5mCk1z//NQxDUaqsKcAHsEuCOPe6T2BmerFhjUbtTWzW3e4gWiEfa1GpqiO/s9vdVrSpdUl7e3b8UY6s5jHEuVESk8c8seXaKrS4QoC8e94s3wbKC8E12cyJx1krQgGM1YGGByqBMLcvbRx5HL6dAihpPSeu5CDzTaffaCTZcbSRWcrcYnHv/zUsQ/GPmKmADGFpSqI6hRJ5KXVQNqr3N/r//OzconDe+1YBCx6TfOvZnov+3//ofUbVlnHpYwcj44mU5XquCuRxcnxQEK2PjBsbE2FKbmQMyc1Qe1pPd3kpbXdSph0/fuP383/8pHu5hu5zD0o7H81J+cgPijpXndolH88QjvxSfD//NQxFEYQb6cAHsMlCCYEWER32/p2uoP2/5p/iHKtcp5MF3BIx46aGLIV+ZY68zROGdoLe0cpjRUMgvD4q+qSpMvCJNTzBhMPFhKJPGX7fO9AEcgyX36ywLWZ+guXYp913g6/60jjVptPM4Sua6T55lkmqjVHbnOuc9abiwES///U//zUsRlGdHWgADOTJQr+mrPKrKmYmRtpcFkUbiSc45TjQm/j/u4VDpj1BeBoNHHR1EUOm8SrYEIAhuKQCRNMgmNOkZkqDkj7RCTwYaMsPAGltkftE5l7rCKNNB4uNDCpEGQsHERwrDgiz3OOX//09iT////+rTt+zdV7+dI3MwZBGjO//NSxHMaeXp4AN6UlHM7bXDAKBEiX2JeFA44YEVHE5VTmAHhEVNcgORt0MpNCguajGZ+2CA1pO6HC6ii2tNn8qRxjRmo4MIBFmJoZpBJA4EGTTLpuepLT+/pt5nqy+nXk//s/coxR9ucrcuZVXSMMOBYex/s2YjLw3OzUGiMYMlN1b3/81DEfxlxYogA3tqUf0OvcBMgYec2U0cYAA1Quxqh4Kgp/d7eEj/mtXIetd78BL+y5j8Xg7v48td//u98E/s3gvQf1+V3rfOmvUnXbdf//t/6//fhA1E7q9f1Kv/VeADATgaCJfYqvEZhINpbpHQR5PqsZU9sPMpMnAOSfIgcefqa//NSxI4ZysqQAN6EuASIXVINWKVZM5ll+5Rz+f+uf//Pc//shIzmOeTZmYYV9C/zX6t7/s/Yzsl811dFInvoq///1wadDSrHuOUZMJER4kv++ydpzLWxRl1hxhQGE/0aEoBf5aojPTjw5GODo07LRJTAcUleK/avbvMnH///Cd//+bv/81LEnBfx7pQA3o6YOP67aBRZDlGA2hgYOu87eE26mbqKehUfMXqZNXGjk4CCw5UUS3/+7X5bRf1uo9YiN2F8ytLwOePpI/8MLnMd2MAxHgSefwEVZYG7T07Ay8jDBkgH8dyURRm2X9+C4t///f5/6pef/1IyMZRNOhgAfTJflDlZCf/zUMSyGanujADeypjWfXE/uf7mpf69MLs/CBjaBRiv//5CuacJ2FyC/8sXiMYcVE99FKREoM3NYBHYu0gqbhbFRL29uxggAKFQPKsn6IlYcZmrMaRTWdT7ziCtmf/qpf///Xf/69Pg6xAc1WCCoy06ScjGd0Dgk+pxz6N5BrtOokP/81LEwBmp7pAA3oaYzrFjFGrv///ze28K1ula/99sETN1YtjZBow64RcViflhhgyqUQ9diDw5dq3nhay6uPNshjEuxxjzCZZ3WMuk/Ow8/YcDSzyYFZFGBAzfnf/9lf+BG/ade/eeh/7JZ/BC5zmBAdEDklhhqP//q+Ea3x1Vy3vB2v/zUMTPGeHilADWipg3SOA4cuRUhAh567jTTaDPtI4lYHo53Yf75u9s5vlrZm5b12vFRe81LRKdes0PaLdgQy/NrmnEzWIxPLIYaCGPTlODwBA5TEFcQh+aIkfmscUH4+dShMIQP0F5ANnPYqKxEh0xOr////5jG839XygP8h/T3UL/81LE3BipypgA1gyU7z5ohAnXLMPlVeLAWSecDaqzTIDCDJ3J+I+gjdexvN0GpU+f1INl+H9m5HI8OTEtpqfPCSufGqSZftDN+JBK3jXULIkN2kfRakY/ssG+ad1PcG2lz/jKxXkwAwrhrbiWD/s8jvjvV6yyL6uULFCpYyDSVV2BEP/zUsTvHirGjADTFLne9w2ML57W2mfWpq4h0h0gS4vjWf/////////963el/q3xmmNY3mn96X355rv5cPZeuJJhTk7N5/OzoDlirhzEkABAvVK5qVgh4pVZJMTbpqZqFTus5p7b1q6+DiX9cqxt5ZVnYa26VrOjQECUOJjo+AEgRohw//NQxOwrKv6MANYeueE/iUnUPSqWRqZEErdWPg5XaGsDGh5yppXTM0qhhRtTq5yzeeSNbO9WtulY1mkCPFLah///S6I7AKLzjxxkeOEVLtT/1i8QdXPVKaDBXQOOf/skEHBjhwxG2lCIcjHGin4ldAFjEw569kloohlM07AEWL8Ybv/zUsS0IHmmoADOXpTq/HC0r5FKGcCKQi5A8xL3XGTvNdpYvJmhSrs/LJ7LCbgNldBau5xue5Ww1Z7/9/ndcu77rX42Zf7tyBC4UEP//+52oXzVdaf4KsT67d28BLgQoJdCw6DATv3YILeHMDNboutzIpaJWFSPjwJrvZfTjA5SLrqZ//NQxKgeGYqkAM5wlLY42GXoAiz9TwCJKCM9bVSIFt+1o8JU8anpkHE8boLw6WbOMsau+Lae695W/GMQnk+KekXVDlcpMmI+L/bo/6/ZX1rZInQfJaLqJ4AZC6yRFDZCS4h6+4gCfD4aLCZKq622/h2swEOE3nL2YiwsbdJr7QEelv/zUsSkHGmGqAB+npT8MztC0dXKNxl8HM7vVhRGZNsx5wnz5VM0LcXNZq5+H1v9QtqSAixVbn1763UVjXIfrz1Mrf/VckIXppIvPJvFVs13FmRwm7XZbAQyGO13EINTRsblmICoS4nHYgFw5MMit96BGtFgatcsiLQwg5WrRyC1RzsN//NSxKgZqVagAJZelF0uRVmwS1cwzIo/pccDUts30pmtNvbe6ZV7+ZDss6a30bortcrR////1P/9lgJC/PG40sfSgbCWtzCWSXUdqQUddwNGpTXbuYcoklZpH2FBrXcedEZsDBnG+hAhBuM7uUo7s3sUyn0Jm+V8m0bGT5ECQqr64uH/81DEtxq5ZpQAxpiUG3JIXiTe9OW/8xdf+Lb/x4v/fnZmsfIaYOPU3///9O6i//9R4rDzvSEZPHhr92oF4SKUnv24iNxsduR0vTO4ZW1MpPzm2gcs00rRWgeU/BqxXWpmWROxKYhKBm3VqOBXb2mR/mTM+a1tU29Jcf+9v8atv/b3//NSxMEbMYaYAM6elF9bi+D0u+co1uKEVjv///+u7hogOPSmPIEW4xTQmRXAHQ0DpqnuuEJJqdqdgX/yeN+f/dt1cv00fHVqqvtOqnkKmQgZ08zExMsG2RZI8HVBF4sa0xPzJdVs8Zt++8fwIlt/FK68OPF15WR9bwJg6XesLPv6Kv//81DEyhkxiqAAzh6U5WER4eVTi+39MFBGq9JVUqL+kS4OqwSjOvXLHUF2dfqBb3/UZzRf9eCr/45vbuzlTpjNOu3F5o+wLPVRoAWVDHuQNDldXIr6peS3CSJuXsQcC1Dw1oXFrhvWvba4RsKNlqWdRe1qq2t5Za7zh7FxnL6xQBSn//NSxNoY0aaYAKYelP//+9xBNMLEiAeV/W5IMLmXblK+TRWAhNGcrg6YEqMVKClZsvPqN+cIXOjx50o7ovpkYuoSQKtCYUHBvMUFsbYEb2XjJcNysRLXDcJxZt+zja2Jo+dZgSxcwoNo2ZJoUXGY8XX7Hb/wJ/Jf///+VWr8Kd2DC1L/81LE7CA54owA1h6YFkR+2sInHLnBEaSK6pQFCs1He1wJe18Q4uv5X2/9Rv+i3H/C/F/a1FvUOKnol2Ki83RU+SwgqNlP4zy8xWxqKZ7ShuD5LDqrovy1+0IdvDmr2S9qKlmkbFYfeImDAUNNMERoeSsRbFVE7BN7Z7buDh5H/6/PUf/zUMThGRnykADTXpixT9W9uYioFWiUWmhoREjvUxIrErLIjMggjLRcBEe1T+92OR8060iJuS6ELKkYiJVvjyPJorGWsGsCMZMKrHDe5s8+M4pbGM4q9pvFrZkSSqcuuiAoTNFPQ7TJ1kqTJZdYnZfS82a6nDQWZ//FP9EbbSpVrpP/81LE8R+5/nwA296YrIITU8Oauaef8AuJhNditmUiQIwrBcJVTUeyLMqjre1fNsxxI6g2Gy42EoHSy2SSapk6OwEgdMnzk9r3PWtONXrn7a/VZr8B0Y9LpKEZ92RyJzfFYSnpm35jQdmGLOTOYFkTFh6l6Tyy7Lh3it1FFmNallqzav/zUsToG5oCfADSnpiPjtTFFuhsRvHPOktU0up88atNvKOaTX050KOpyyaaZ89988jCzTMMVMNh1dgyCOC87MRxHnTtFrP/VKZQqYXCWXupzSPhqx9cjFVk8O08k59nEj2lGiM1JqHu4PRUkbdEiqV2akLiy7hVldjs341y+5jvcHHI//NQxO8caepoAMHYmKIYomaSBnMP6j1iFQYmQhOcFpCVgEw/wJe8AAxMb7gWjC4yAgDMgbAgsKIoThgXCIDtIKK1ICYEweJ8eiXI8Z44WDJAoE4OM2NBQRBxSQsok3SWiw55XdZTNycJonisiTJoYoHlpOkm0uGiBm6JPl0uuxdkcf/zUsTyH+saTAFYMAE0aKoJIsmWyyX1kHN1H3c8xqgsvDnGhNF4xRRQRRSdmOnVMktC7MimpOm9Z9BTG5w7mznS6o6XUS+YEPYixNLe5TNkWJ8gBAh5LhOEDK7J///0Tqlf//Jg0HqGXfQzMOPEiZdQvQquKHDiswgm+69DAiQ4uw5R//NQxOgy48ZkAZigAUfgto/jGUM2Jv/F5uUhgEGlFUINEH/dLorsl/+RPRG2f9dk/S1q2WYziKa9f/+T0b//p039D1UiOspVMLBFg6QPCylSgeMIiowAg8h50lV3pdDwIDJgMxCQBc4kAxhiLG1wMqNaJhQNG1CU68gKgTMHmMe4gf/zUsSRGpsecAHaKAAbwcDB5abNpc4CHdSilD/zkv43NS/mF127//2n3+43a/WFjv4WMv/PfdQ5LO/4G1CN7VBmdAgg0gAzHO90MpKS3UipV3kf/9Pz9VRyEZ7aTvnPoRnZTAJgAACgjgDC8x6pEJ57xiqH30a2YQeHWFKELnluTe0U//NSxJwiyt5wAOZEudtEkgVdmDQxuw+kzABUFTEjgNbcYcYBlgD3u8jylagrDT0kA0DIHhyMhQDjRWSLpZvSRB/S6b+z+kvHktvGivF8YkXUdTC0gISht33rXv+cosRSzy5jz6ko5+oYk2YD0WYEmE/C5rL5Ltegqm5/UtGtbqoqVWX/81DEhjA7NngA3hq8/lxv/+s00h6dA+60zNNBaCkHWPc3NHLh4jHyKE7KRYkXJ5Md4yyWNThYZGKY7ymyJJm6JupNAoMZJyHHKWqXH/DqikDDzMc0sOXhiAlhI/jju6zwf7n9gB1se0DTZb9134r3tVp0uyusih7Hi02SxXBganpb//NSxDomQxqQANYWuVYBKFRrURQFRK3VVvX7FZhuDLSTR0gErNB2H7yg7Umw9zJuMCceokFqyDL/+OfiGcddb2fzH////7/5t1y6OJ/2Q2H8uTckWlB1OEi0+bHVzjGPNECphvevJMWuFBOk1u4SkiMqrhSFSikuWEhluX/j2XcFvyP/81DEFxkqwqQAys64uj1K9NlcpfmLfK+qxAnYUHB9sgXGJYcDNh1hANPOPhU088ShYYznDhhEbIxgwyJMc8b2qrnyr3s12ef6////37//rmq6oeSjjqjCha5S/G0uUnthN9RwCSu/amRxGQ+gOMiC4lyo5yrZJyrZjm1msarHIPji//NSxCcXwfKgAMqWmGkkuNVh2HnqAkHEcPAQNWmhagfPnqiEVG8bmzzDridsOhly2z3CHW9scQdyiZ///32tJC4z1anr/U2QGAr2HOQ2e5DLL1sgOpPg/GDIqFmoY5fQbn5hmcZqe+ryhAzD0yVBTQo0E4+MsdQMH7IKIOFZrCqBJWn/81LEPhhB7pwAydaYiOun/H8Pe9SX8KMYw+ys1ZG07aQfYTb/9ra6G3LrZyUE5mjHKlGQDnFhU42MNRZTV4udKDNwqBQ41BS+IXx0nqM6COfntmk9/MCnw33zU7d7fkiRtoqtUUzDCTFKQrtThB8GNb4/t7/6vv2f6xWBeem8Q5NxYf/zUMRTGCnSnADJ3pTiDSaNkRoNU//Vf//TXfzqLbMuCltt0MfYaTkV1eI05ObRROeRC/0VL5QZyUxGsSKtpTfonGzFOdJkiboikR0EUJoP2BHjgNBaQ+ouclzAc4nS+YnljxUXjy1Oy9XvmRuhOF5cxNlupI2QUZiOe//w0//pnLD/81LEZxlBzpgAyuCU95f05UlUrcGimBFm5BL0ftpAMfDlnJujVs8oCdax3bg9381T8ywnTXGIbhPWrFjcFlg1oxOWWWEno1jdHpLy6PcBJAYXGpMhNjyvMfx1b8FzyJ7+59yw0WDqIVDQomz/8YpA3KiBMj/oeWxRixkikWljAxMgjf/zUsR4GNk+hADWHnAdrI+J86tnGou7MVIEWSTcuSzd+N9u/Lb4rJrx0Nk4VsnOaid0+uRDCzGngz9eP4L9BS6wHwPn2+j9c1v5MerWtJO7p+N3WELZG1PSrdwd/BiMk71agwGVOLuVq3C7zvKuWMavEpdQEcgW395L7pZJ87O6Jnzb//NQxIoZASpoAMPMcSomfW1ly14ve9Z83/IjygX33cu6udjtuV8k3/MZ3t7u/F5/PfPBVVhnzovv2reO+si7xmq19/bt2zfrTsPll0TdNREXRJX79u91xdhHoh+7Edo4zR3WdLo6xXguoMEGJ8qloP4AFBUFImBXU6JwA8B3wvuIDv/zUsSbGdraYAFPMACbmaaai9xmg1QKSEeEDRRoKUfZkVstxPgrclxO4tAgwVxSTuhqugitKitxHhTDGB02GUFaEQD5EVNd7pLQXUrZKhQXWOaJ3GiKDImbkwThMEaM2Psd6TrW7qUvQZDS2UeRUtJ2QZaY5g7hchmJwGPHeK3HUJ0H//NQxKku49JwAY+IAShbBmxsi5yGf//////kSJxZoPV6FHGBmrnaOpxmgsEg8biQtsbCeFOYii9AvMkFDTH0yVVgCMFDBUEhxEZwsEoQFQSAj+EeKhwDpnKmrOqVMAs41Fb6DxaV+nKfOPv9CIcXI9jtxm8jzBFt4aPKtK49IoBcKP/zUsRiL4sGgAGZwABzlJq7zlDy3hhrKNuDQuC4slcm9ANruXcd633Kphe3rmr0JgyW0uERitBVw7j+62u////6/9//6z/f/v+63y5rGrKaWVarZa/HfM8/3++577z////uH3su6rm0yyq7yJK3CuqCpF4vKGnxKtCmMMUpMogz6LNK//NSxBkcwS6EAdjAAHCgZ3matFkLD4dEloHsoT1BIlB1hEsFK22gZh7N2uO7UeNl8EQ5DEYp6PO5hrDlPG6fPOknKXPVyxScrhYMvE6gQMND89QGLlodn65OtszZ3dmissHYXidra9/dxC/Bt+MEWljC9nOVVnUEQkebh2W3HWYtXnL/81DEHCC5tnwAxh6UClrR6MvzKZQzGEOEl8BTFvWmzUpf8WTDS/mUL6LxtDeNxlEUhUV8p0ZJiE5qxHPZW4lZkyGWaQpqhXL26OU7biRhbGrNINMZx/v7/1bW5Y0KLLA0p7V3i9Oiz+mtNOE0iIGoBcCoK+87SM7Bd79SGX2TESbz//NSxA4dic6EAMvelLSz4tjuamj4jw/2s6LbxCQWsaUyEzW9SfF4ZIER4GUVjd02HcQzOLKIyGCI+OpIQXhol9D4HQyPEIMuFeI3ObBEzGbZIE0WerhAi3xn5vZkpAszsDx5mLGpqbrACS58Af/7Kd9tNWc1qs8t1CAEQNQJDUOvWbP/81DEDRypyowAy96UWuvPC4CSiUtmOPyJ/zPp8bqqNa+VK50zg5nCFh8uxNVGsTluTIm7ulnwSAuD3J6g5CwRVGfAR1rOd5FNEbhJHklpH8z+dsQyJBzebetSM8maaerpCIbFZvMh5fV5A2dBBZmS//9F/9XYAOR+1LcpaDMRKuXd//NSxA8aOdaUAMtelLg1AeZu9ReIGsmjzfkkUG1mTah7FDVCZtaxZgFrzPAJkATpZ/ANIFUCAcFSpRgjgQt3uCcJkPIlJiXs99NSjvvc6KbbalgppCNUiHeaDhqVqPWNDzFgz0PP1P/9vAceDNJ2elQ4qLdY7wUCQdVcLOrFH6DF+JL/81LEHBpxypQAyp6U3UVTPdYlc/J+fdI5+AU3LDKiCdjgiv6FuE8PrNZAlqni1yoSoODWGtQs9NaRR5KR5mQvqgi2nOUxXe5HatrHwDOjZ/8Qemm+Xeon7Zai/W7jdxFJZfRUcqL6mSBQ7licD8zPUQm6n8qN+sgeke/70/qxGXGrAf/zUMQoGUnKmADTXpS8bqOnVtihHKrmhi1HRcasiRJy7mgtx7nLbMCGqZZ8WkhIZq3szwq4+oltbl8d5YmzX/12Lh2t/9PRYQvKVf/VWDDKkc6vvS8BKGxlpAJEDEoLfV+o95Qn7N+2vkrNqbY8A5XTOkUB2SlWqjvBMH5uaDYHDPf/81LENxbx2qAAydaUvHknP2pv5qTxrXZoWu/c3+kTzorPQVJLZ/9G2r5WLg5rbNOXof/WUFnKrST+FMMHJY6z4QBJLM8ZNqUJvVepMdxgd8Tf/Lh95shhxNMbAkAHFfrmMGOjszwWpzi63ltYlFvEOJCtnx8xf8a3r5fwYv+Y0I2Gyv/zUMRRGFG+oADKnpS0TDVitf/939JJbxEmbWyIVed3MKJnNJUkll9QUMUGc51YQz8d/j4y8zNn1Gnkw11FyHqmmpGYpM+LAEqRyvYBXAI8NbkhDMAYktnMUyrfNJbb/29i694n18wItd+z2rhU9D1YJFTIa//noi/uo9GfQqtWCHr/81LEZBfpopgAy16UwAWNtLTxbnDAwFMFHBxGc36vDKt22cniq1LGGgsbxMe9LW02WexN1b1TaRFFuSz3XTsXOJ08QYlz85V2J8GEdT6xIgHYUqW1bZri1rf+tdYt61+YL16kShqxiBLkv////6rEU8pbGnMMLIif/GgpcMJFQUwNIf/zUsR6GfmGgADT3pSTyyVvEFBqXRuGIQqixHPc3OkTaOvm7aSU/qvF3xx/On/DDWc1rDDDUDfunp3swsV4bgzCkpKspu7Rrvs+QhvfVV//1///////75vf/o9lQyIRRPQ5dcsKdyDC3M7sUY/EJGBAA2oDV7PPiwgx3VzDvGYD0cZd//NQxIgZ4uJwAN4EuZPSrtlsutUyEt1b0qtFIhXgzHRPa3lfRs5T7AzQpT3ZvFcUyZENmcFYRDlud8n4OJ4cbgorM1FVJk7bDiWo9n///5TBGKvFK/+vHwvDiUlKaAuGYgmGgASvOCMMBNjZ1mNs8AiCWHYYlkEtpSxiWPjBl6hJYv/zUsSVGgE6cADeHnATrlRDLXsHBg7TKOVU7t4YKOUgA7F1CkBXmlhyPR9RxK0gDDLC9B8Ew/MnzMg9jmf+j/09e2OpVsetq1ZY5ZBkiXnOlUCGQcxXGOCBY+paIQo4b2OOCMGAGApANBeMMg9qo9iwuHddfBlzq1LVCnDQWb8RW7vl//NSxKMZsTJ4AN5YcMgy3hWyXlbqymJ40SQrocaMi6SA3yGrp8ixvKU7bSmm4/x42fjG6/d8W23UVecYvHvj3u56pNiDiG/nuZB4/52r9HR+vqcpFuVVsz0JY8ZQBItUiIEI/g0FGybaYwAKKy7DA4DOMklKRwCgNMSAxedCBVmRaAH/81DEsiFRzmwA3p6UguRR8MOwpeyImCYxjfjsVyw3nS2vuT9r+5FmfgBxVM1Gt1laPIjStOVBNASUE4oMEFEhjm1N8gu4354j6WyU97OFmB5LDZnlM/AtPET1n3tyJrKG/W+ziTZD9vaTCpQIjLFhcPqzWjo4BGEcBjoI3dpZiQ8c//NSxKEkKdpoAObYlOTgcDu82IGp46TK2pzJ1ERM5BdZruigoSYizpZzDhgIQj5LHYcXxIaS9UjtjDL6nOZ9s/nT2scNYbl34dnd56jFW89DsBOBvLAugcgXimk5AHVzJAepsZGVBaN0UW1aSzZJ1JIvZNej0Le3ZV9vu7OpWpdB2mb/81DEhiRyhnAA3pq4gDqnWbx1TYqga9I+nfl88UvL0WX8MYjUWPYVBRpemBLUkEdMVXZRQ9Rer0EWGNOuj4OWmoq1fdMXtnFc4+r23rN5t37bTckKNXKiaAuXQCkCk1RHJS6Hk5Ax555Oh70oeZ1c9UU9DVe888xlfMV0//6NQw09//NSxGke6u6AAMPUuX96WPTZ5+1NrmHo7Hkd/EAv7MUsrcH4SQMoByYkqPV12e2u/K0tJSKKkCOxqVnQYhibxxA5G7m1vPWmHjzXMCVjCFi2iAqyJkxw2AMBAicEiBsYAAGACAQFCRUnyC58w/KIA2vHrkYr8PNgnnWEDD1I3e/1v3f/81LEYyJTFogAYhK5PU9bq41i1pUnI60jvY6x7udt74Q5BHMbTbX0jWqEeRr1+3S+z3bVU/9MUoNvLSy9zVSqLZSTvTxUhJpGtKT7NRKzOUurIj9ilDCwGH1UImsCoYBsqOLABUUDCygJikTEhQgRnFCI6IR8MKJMYG50BChS0DJr1P/zUMRPIIMqkAAwkr1lJNLI9eL+y3a/nusbm0oqWYkoQMZPLLkggDAkUBiKow9jFxGJxPtmbqEmGE4dRBTx9wBvxAAXR36Hq+ykVK6PV3oPQRSn17WT1f0+T0//K/3dj9lK9bal45/V1JbfnqpfI7LP9/uX2vs/mdvwbjC5KqOl+zb/81LEQhlzHpwAKJK9hVsTI7RE72r1EX5MjPFntGx0DBk/PmF2CqEgbZUaNoVjKw+ZzexPBYGGOT8G+STBPBDDgYFKBPgx1Tsu4uaPy3oeo3kRTlzcpj/J2ZbJEzhk1H3r41ndqU373vvGr+HHv97sh0//7163yEzFn3m9L5nXTqjqpv/zUMRSHZsOoAB7yrl8s0hZSlKwDB6Z+WV7lKIh1lMblqHRYxjRgsJB5izCT/GONFTK/HEsAMHpr44CahEORUlQNTtPmiIAA+JZdAqV44fDkTJuLVLNLGhKV4OIuLAIJFtcTGViLyDgFaqzGEKIUMVlj95SrVz62pRe1TPuPQ3DuHz/81LEUCGCBpQAzpaYI5WQooBE8gCQJV5JZt73fD/3xEQ2ZPLXZsQyxYWLnVmOu73R1/f3+xazDoe+Fqn/ddNOZq0K//U6XF/YYGoYlSplB6TvQyWAg3eCIfCpYa890otFvp6bEQwuK/seUMDvIjNSoIPxm3TEhp6/E4HjX3ALSnBvWP/zUsRAGmGuoADOUJTBEvEgAAWHiUCYNRw0TjURY5f/i+o9GmXVXdSYU6OTsodklS9f/////qr/+Ak49VWNDyZfGoLDXR2JRc91igCOBYkgIeWs+5EIv6NLKMc+HI/SCg6mktZShlD+LSVqwrkph2z9YFT80PeBYVF5EEETyQ9B4y8q//NQxEwXiZagAMZQlJlir27+P443/ulqGKAoNPFf9dWkhhhkCAIczhXBAEBVZEpO4WAm2prqSMHDJwuYDWydACEAB4G+xAAMugN2EQgXsACZohKr2BRyOq0S+SQM/ONNKX9wyyu/Glqd3KZbnFkiTPIolfan9Vuevnrc9bLmos2VDf/zUsRiGjl6iADWjJQVbby0tFw6iTDkxmtnIDMaBoAFDgYlStQtMKeOUxN8mJQBCIUxg1VS6KaS7xoVZCkgIOXZf9pq5lUwcawURROACW41GzFatabWub05vWs33sxA0SuqpkQmbaoCrT/KZqi2/3/7uiic2quv89IkFKIFf8RjwENd//NQxG8XwP5oANZYcHp4DERe3bvvC0u3T9ZWkhGKRW0BPCYGhgMMHBUiXmVSW9a1IILM1IZJuyiooVHjdSN6t3qn4SYAomZTduxM6RMnoeaBHINVLbKHE3uvsJVrqaSr4sTMVXbOGOVFDX4BBCYBagEtBwmYMJlD02IxsCGglf4yQP/zUsSFGYk+WAFaaADYlAigAa8kusInCVBuqnWk+yxIFn0gVifT125L3pLFnO7Un6GMxujf+r2dno3bodPc2STxKnkjxxH90mu1IvSY393c4vO9t/SSi1GKlPKu7vXKnLFT8Lv3aSWVsL+dLvLvect5Y6zxx/+3N0mOt7x+5vneTueH//NSxJQu8xZQAZvAAO98q//dc/CzS3s7/8y5/f3U/VTvO487+H5a3lY53/7nq1nju5///6lrRiRZRGWjLvmRJKwhkwcVSExg1C5uExSxczAz+RA2LGgstEPFBg2EC5Q2gFCQtQKW3OCyCDFEUEJxJsWeLeKAHAfFTEASTPl02LKJ0i7/81DETinyynwBm6AATpAyfMC+TRGnmTRNzVM2QKBOLmRmXiaNSaSUm67oJrL7oJLdiy5eMUDI8kgx5JJR8vuaJutJBSFBN00jdFGqkpnZdT//QSaybppM7er5ikuiYT7c2Cg+Lf+hpspdKXRN/C0Vi5C+DEFs4KWEg1PswYJAgud9//NSxBshAtKAAds4ACAKQGnr3TFMAOAwwXfH4SYGIBAgYAaDkBwODVEUICaqaU7KvY98eHxvNFACwdjpQRQECQaqHttYzU93OHzhxxJBYKxLPPGpcxywqEUF43YeCMHA4NDREHSbsYQX////1/b0bQzv1XYuqd6m4MHR00USYeqJ/4H/81LEDRy52ogA3pCUDENEDI6/Ely9gLFnsGKLxtVRIc6xhC1/38IA66X+rY4txl//qz//9avn//f/lP8YfcFmBpZpavnmb+a/liKlRFFGOuDz5kWp2UYI5UCEIwrhxYsJyBc2Zr//XV/ueAUoFTR+s2XQ/vL60QVqM5Zi9SXxhjIJbf/zUMQQHIL2jADdCrm1BdSN5gAWC1VKgVsHvkRBO6OeOMnC+DeomJOIKWRjdzTrMm0UX6vpJ6Rui9UxH7+njTEjxIoOdRqHJczhyrGHSkAowCBwXCRxlqMz/////b6ert69zCg4VQ4wQTgtNVVn+v/8Y2Av8Ii73KpGQ6ALs5cQWDb/81LEExkS5pQA1Qq5dk7ptCePh64EWIhMYG4xgjwERI9rS9S+mme6bdbetJ6DHW05df72RjspCHM7ui1uRSshwg4fETDhgCBY8gqxNP////+3p/6XU6mjmiY+duS+6v1uYKocwgCZaVFC+4aya1EZgUBAaZQCI0USaFygRJgZMEiWh//zUMQkGLHumADVBphAAB4ESkUEREvjoIQ9QNF9TN7dau/0Sn/qpfS94f8ORCrmZ0i+/2W6mq9EDiBdEBxTt//6K2VR3HLDTjdL1k7//RKDFnMoeF1ALBSulmTcjJTghsup5UCDH46VsVnk9zmMbjxkyDJOqpG8F4L1dzcxDneVKSP/81LENhoR5pgA1gqYFrmqljn77/PzOcSU5DmfV+/zW7lyGf/+pbOUVKcYYoWIKAqf/v/uQKzFKHOLNaEBoioq5XuSgcTGlXbaeYAACxeJ3VBxA4UrjQC926CEQqjqheJst+QMBbiscSAdXFtlUUZEki4TqpcsOhUolPw87Mdh+MS+Vf/zUsRDGekClAFZwAARmqHDKluV73012rS5B0we///4iyQif///sOvlpEyV8FULcRDtWkYVTPzjjwPCIuqZyqfR2FIEB/UDACSwsw+x7hEBEDtcTXFiF7C5BOEGNKiCYZdQE1HjkDEaC8QM7B48ceKqZlQS9PyHIsYwAaKLxbzGAL30//NQxFEpki54AZnAAOXUZpchyMJkpSLCOS7M9Zw/HXL+HN/zqgDEJBDn4U/9/9/j/P7/P/9dr9p43fd+H85f//z9/z////uH//O//58r7E19g2sJSqSx7vQNR55AuXb///pV/VZpRZeBaWADMJQWKwyKlW5TaibcpbeqOxD1rKUS+P/zUsQfGbG+lAHYeADRpItvEVO7YUjDNAPwyWJcm+LGUtmdXGTi7GhT1vT7MdLCfh0IW4xUmzH7FpFjUiZtv0vrFIeMYgVzeSuJ7R5sXniuV73iUlH9YrzGvWpS74f+G4GTQDQxnRUAFU+yZO/hwfWm3zjh9l6Xd/T51sQxBKWGCcmh//NQxC4Ysb6UAMMYlXgBhuTkbY5nhLCcoj6aA0Wkaolm4sJzq8pJ5yrVPp/U1qmMNu9E8iidWo44ISYmt6tfQG1t/80CKUVWJF+Bs11spapoNaqMqNu5vuPxn5Y3H3b3K147yuWNujXfKnFVOih+JYGwxGQTiSZAKJgNzFWPYzBYG//zUsRAGSm+mADD2JUAg5WGA4hGawRPxUbtfa2rFsGVjsy461dRVhmPnrmhzZ9e9rOay3HgIE0Lib5ypMmsMjDpZDEwaCLTFsfjNeGzbux0/mffvXtZrYiVrMwSxo7eoXRCaVCUVx4A0ThHUAWIQLjmEo8jtAdD+XF0Cg23oZjtB/db//NSxFEZCb6YAMvYlO2/EttvKY777MsNrW7IpgonNcbV/4+UPYbC8aEO0lDKPX7fGRYaVLg8ZpVFO8liP0ohyC7sjKc1txSq8S5NRHVYSSEVi+VgiBmExSHpfazx40ykb5JQ05Dp1bbWaza3Mzu5D9Zrr8d+yrdjihIT0vLX///6Yo7/81DEYhjJupgAyliU9arHJsKFl6aBSZbTEKFYpe+LldwJnmJbNPU7r5jU05DtrPM/mw6D8LpqGY3GpoQAgySdLzVU0PHSWw6KJobqOZC/Lnc///P8O0zi8GpxyxsAw6tCxwuLk2LT/6jhQ5Wo6ht9GyXqiaXYdL8ewtTFzlpK3Q8N//NSxHMY0b6cAMGWlLrKs7PX7/7Pe/Ls6FMjs5BQYu83Mucrt//8///7dv8b9u+vMRKMQ3d2PnYU3zKh1t4x4j39aLzciyade7gms9IxBMnqYOA0ysQnbjDwuz45/CBisBGZXyoav+2v84lafuMbvM08gGA15jwEdp5tGR9Tv//P/DL/81LEhRmS0pgAeIy5oV6y9qo+G36ue6plOtVhAUlsM2eVSJmWtQksdUTMs6zKCJFFZeFqkpoUiEdGUCWstCl6yOI62hwfetJFJtl80TpHWV8p8XSjN25VDGOhCNJVSOW3mex9/LQOztkLcMK2vpsakpfapU6QeHNbP+2//K18qu05+v/zUMSUGgsmoAAQUr008l7XmZz01M1PjJTNUStrNooOoBG/DpmZz7lT9yjZI5/WVvmfmsclvY7dz9rAK0YJFjXY9L6GBI12X5bV7CK4F8b5NzvNzRrLLAznK8aV8ctnVWJ3FO7cpxSVEQmCxoMpD1VKMdobMzedjKagTAICZw6TGan/81LEoBnS/pgAKMy5fkZ6/5/Z+sbznqR8ZjDARQb99+y7+7m/s38tw65z7+Syi3OxRTKOtZdAEiASmnlwS4retJZbRNJoaa2UlkW5KSZEaKgiSpBYEjSJ5CSrNEJLCNSuOf+/KWxQsxlqrKTSopZxYbFQWH5HDf+b/yfzLvHwTQp/Qv/zUMSuF2nedAB6RpWikgoJy/8fxFcO+bwWTEFNRTMuMTAwqqqqqqqqqqqqqqqqqqqqqqqqqqqqqqqqqqqqqqqqqqqqqqqqqqqqqqqqqqqqqqqqqqqqqqqqqqqqqqqqqqqqqqqqqqqqqqqqqqqqqkxBTUUzLjEwMKqqqqqqqqqqqqr/81LExRcxIkgAwlJxqqqqqqqqqqqqqqqqqqqqqqqqqqqqqqqqqqqqqqqqqqqqqqqqqqqqqqqqqqqqqqqqqqqqqqqqqqqqqqqqqqqqqqqqqqqqqqqqqqqqqqqqqqqqqqqqqqqqqqqqqqqqqqqqqqpMQU1FMy4xMDCqqqqqqqqqqqqqqv/zUsSJAAADSAAAAACqqqqqqqqqqqqqqqqqqqqqqqqqqqqqqqqqqqqqqqqqqqqqqqqqqqqqqqqqqqqqqqqqqqqqqqqqqqqqqqqqqqqqqqqqqqqqqqqqqqqqqqqqqqqqqqqqqqqqqqqqqqqqqqqqqkxBTUUzLjEwMKqqqqqqqqqqqqqq//NQxIoAAANIAAAAAKqqqqqqqqqqqqqqqqqqqqqqqqqqqqqqqqqqqqqqqqqqqqqqqqqqqqqqqqqqqqqqqqqqqqqqqqqqqqqqqqqqqqqqqqqqqqqqqqqqqqqqqqqqqqqqqqqqqqqqqqqqqqqqqqpMQU1FMy4xMDCqqqqqqqqqqqqqqv/zUsSJAAADSAAAAACqqqqqqqqqqqqqqqqqqqqqqqqqqqqqqqqqqqqqqqqqqqqqqqqqqqqqqqqqqqqqqqqqqqqqqqqqqqqqqqqqqqqqqqqqqqqqqqqqqqqqqqqqqqqqqqqqqqqqqqqqqqqqqqqqqkxBTUUzLjEwMKqqqqqqqqqqqqqq//NQxIoAAANIAAAAAKqqqqqqqqqqqqqqqqqqqqqqqqqqqqqqqqqqqqqqqqqqqqqqqqqqqqqqqqqqqqqqqqqqqqqqqqqqqqqqqqqqqqqqqqqqqqqqqqqqqqqqqqqqqqqqqqqqqqqqqqqqqqqqqqqqTEFNRTMuMTAwqqqqqqqqqqqqqv/zUsSJAAADSAAAAACqqqqqqqqqqqqqqqqqqqqqqqqqqqqqqqqqqqqqqqqqqqqqqqqqqqqqqqqqqqqqqqqqqqqqqqqqqqqqqqqqqqqqqqqqqqqqqqqqqqqqqqqqqqqqqqqqqqqqqqqqqqqqqqqqqkxBTUUzLjEwMKqqqqqqqqqqqqqq//NSxIkAAANIAAAAAKqqqqqqqqqqqqqqqqqqqqqqqqqqqqqqqqqqqqqqqqqqqqqqqqqqqqqqqqqqqqqqqqqqqqqqqqqqqqqqqqqqqqqqqqqqqqqqqqqqqqqqqqqqqqqqqqqqqqqqqqqqqqqqqqqqTEFNRTMuMTAwqqqqqqqqqqqqqqr/81DEigAAA0gAAAAAqqqqqqqqqqqqqqqqqqqqqqqqqqqqqqqqqqqqqqqqqqqqqqqqqqqqqqqqqqqqqqqqqqqqqqqqqqqqqqqqqqqqqqqqqqqqqqqqqqqqqqqqqqqqqqqqqqqqqqqqqqqqqqqqqkxBTUUzLjEwMKqqqqqqqqqqqqqq//NSxIkAAANIAAAAAKqqqqqqqqqqqqqqqqqqqqqqqqqqqqqqqqqqqqqqqqqqqqqqqqqqqqqqqqqqqqqqqqqqqqqqqqqqqqqqqqqqqqqqqqqqqqqqqqqqqqqqqqqqqqqqqqqqqqqqqqqqqqqqqqqqTEFNRTMuMTAwqqqqqqqqqqqqqqr/81DEigAAA0gAAAAAqqqqqqqqqqqqqqqqqqqqqqqqqqqqqqqqqqqqqqqqqqqqqqqqqqqqqqqqqqqqqqqqqqqqqqqqqqqqqqqqqqqqqqqqqqqqqqqqqqqqqqqqqqqqqqqqqqqqqqqqqqqqqqqqqqqqqqqqqqqqqqqqqqqqqqqqqqqq//NSxIkAAANIAAAAAKqqqqqqqqqqqqqqqqqqqqqqqqqqqqqqqqqqqqqqqqqqqqqqqqqqqqqqqqqqqqqqqqqqqqqqqqqqqqqqqqqqqqqqqqqqqqqqqqqqqqqqqqqqqqqqqqqqqqqqqqqqqqqqqqqqqqqqqqqqqqqqqqqqqqqqqqqqqqo=\" type=\"audio/mpeg\" />\n",
       "                    Your browser does not support the audio element.\n",
       "                </audio>\n",
       "              "
      ],
      "text/plain": [
       "<IPython.lib.display.Audio object>"
      ]
     },
     "execution_count": 15,
     "metadata": {},
     "output_type": "execute_result"
    }
   ],
   "source": [
    "IPython.display.Audio(\"vae11.mp3\")"
   ]
  },
  {
   "cell_type": "code",
   "execution_count": 16,
   "id": "f4b5a6dd",
   "metadata": {},
   "outputs": [],
   "source": [
    "vhexameter = \"\\n\".join([str(tr[p].combine_chunks()[0]).strip() for p in vergil_passages])"
   ]
  },
  {
   "cell_type": "code",
   "execution_count": 17,
   "id": "813d44f2",
   "metadata": {},
   "outputs": [
    {
     "data": {
      "application/vnd.jupyter.widget-view+json": {
       "model_id": "806f2fe713f0450a9b4d710503681788",
       "version_major": 2,
       "version_minor": 0
      },
      "text/plain": [
       "  0%|          | 0/16082 [00:00<?, ?it/s]"
      ]
     },
     "metadata": {},
     "output_type": "display_data"
    }
   ],
   "source": [
    "recited_hexameters = [{\"text\": h, \"mp3\": requests.get(\"https://poetaexmachina.net/mp3\", params={\"meter\": \"lrlrlrlrlrla\",\"text\":h+\",\"}).content} for h in tqdm.notebook.tqdm(vhexameter.split(\"\\n\"))]"
   ]
  },
  {
   "cell_type": "code",
   "execution_count": 18,
   "id": "8ce38f9d",
   "metadata": {},
   "outputs": [],
   "source": [
    "!mkdir -p txt\n",
    "!mkdir -p mp3"
   ]
  },
  {
   "cell_type": "code",
   "execution_count": 19,
   "id": "7d1b672a",
   "metadata": {},
   "outputs": [
    {
     "data": {
      "application/vnd.jupyter.widget-view+json": {
       "model_id": "c589884916db435d80c5e0aa1f28ca1e",
       "version_major": 2,
       "version_minor": 0
      },
      "text/plain": [
       "  0%|          | 0/16082 [00:00<?, ?it/s]"
      ]
     },
     "metadata": {},
     "output_type": "display_data"
    }
   ],
   "source": [
    "for i in tqdm.notebook.tqdm(range(len(recited_hexameters))):\n",
    "    if len(recited_hexameters[i]['text'].strip()) > 0:\n",
    "        with open(f'txt/{i + 2000000}','w') as f:\n",
    "            f.write(recited_hexameters[i]['text'])\n",
    "        with open(f\"mp3/{i + 2000000}\",\"wb\") as f:\n",
    "            f.write(recited_hexameters[i]['mp3'])"
   ]
  },
  {
   "cell_type": "code",
   "execution_count": 20,
   "id": "d512878f",
   "metadata": {},
   "outputs": [
    {
     "data": {
      "text/html": [
       "\n",
       "                <audio  controls=\"controls\" >\n",
       "                    <source src=\"data:audio/wav;base64,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\" type=\"audio/wav\" />\n",
       "                    Your browser does not support the audio element.\n",
       "                </audio>\n",
       "              "
      ],
      "text/plain": [
       "<IPython.lib.display.Audio object>"
      ]
     },
     "execution_count": 20,
     "metadata": {},
     "output_type": "execute_result"
    }
   ],
   "source": [
    "IPython.display.Audio(recited_hexameters[0]['mp3'])"
   ]
  },
  {
   "cell_type": "code",
   "execution_count": null,
   "id": "68172e76",
   "metadata": {},
   "outputs": [],
   "source": []
  }
 ],
 "metadata": {
  "kernelspec": {
   "display_name": "Python 3",
   "language": "python",
   "name": "python3"
  },
  "language_info": {
   "codemirror_mode": {
    "name": "ipython",
    "version": 3
   },
   "file_extension": ".py",
   "mimetype": "text/x-python",
   "name": "python",
   "nbconvert_exporter": "python",
   "pygments_lexer": "ipython3",
   "version": "3.6.8"
  }
 },
 "nbformat": 4,
 "nbformat_minor": 5
}
